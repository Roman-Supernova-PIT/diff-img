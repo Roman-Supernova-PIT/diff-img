{
 "cells": [
  {
   "cell_type": "markdown",
   "id": "88a3a8a5-0e0a-4f56-8b9d-ab48a01bcfcf",
   "metadata": {},
   "source": [
    "```\n",
    "!mkdir -p test_image\n",
    "\n",
    "!gunzip -c /global/cfs/cdirs/lsst/shared/external/roman-desc-sims/Roman_data/RomanTDS/images/simple_model/J129/45219/Roman_TDS_simple_model_J129_45219_14.fits.gz > ./test_image/Roman_TDS_simple_model_J129_45219_14.fits\n",
    "\n",
    "!gunzip -c /global/cfs/cdirs/lsst/shared/external/roman-desc-sims/Roman_data/RomanTDS/images/simple_model/J129/166/Roman_TDS_simple_model_J129_166_10.fits.gz > ./test_image/Roman_TDS_simple_model_J129_166_10.fits\n",
    "```"
   ]
  },
  {
   "cell_type": "code",
   "execution_count": 170,
   "id": "d6b9ef24-efbe-4b1e-a6e6-ef26c15ddebc",
   "metadata": {
    "tags": []
   },
   "outputs": [],
   "source": [
    "from astropy.io import fits\n",
    "import numpy as np\n",
    "import matplotlib.pyplot as plt\n",
    "from astropy.table import Table"
   ]
  },
  {
   "cell_type": "code",
   "execution_count": 167,
   "id": "89fcf1e4-8602-492a-8a8c-8d87f0bd1128",
   "metadata": {
    "tags": []
   },
   "outputs": [],
   "source": [
    "import cupy as cp"
   ]
  },
  {
   "cell_type": "markdown",
   "id": "87ecd385-8ea1-4355-ae29-ddfc77f82839",
   "metadata": {},
   "source": [
    "## Theory"
   ]
  },
  {
   "cell_type": "markdown",
   "id": "f4e17ed7-d709-460b-ba22-e2d1f42d5638",
   "metadata": {},
   "source": [
    "We implement the SIP algorithm for representing non-linear geometric distortion of a linear coordinate transformation ([link](https://irsa.ipac.caltech.edu/data/SPITZER/docs/files/spitzer/shupeADASS.pdf)). SIP transforms a $2D$ coordiante $\\begin{pmatrix}\n",
    "u\\\\\n",
    "v\n",
    "\\end{pmatrix}$ to another coordiante $\\begin{pmatrix}\n",
    "x\\\\\n",
    "y\n",
    "\\end{pmatrix}$ using the the transformation\n",
    "\n",
    "\\begin{equation}\n",
    "\\begin{pmatrix}\n",
    "x\\\\\n",
    "y\n",
    "\\end{pmatrix}\n",
    "=\n",
    "\\begin{pmatrix}\n",
    "\\mathrm{CD1\\_1} & \\mathrm{CD1\\_2} \\\\\n",
    "\\mathrm{CD2\\_1} & \\mathrm{CD2\\_2}\n",
    "\\end{pmatrix}\n",
    "\\begin{pmatrix}\n",
    "u + f(u, v)\\\\\n",
    "v + g(u, v)\n",
    "\\end{pmatrix}\n",
    "\\end{equation}.\n",
    "\n",
    "$CD$ is a know tranformation matrix. $f$ and $g$ are known polynomials defined as\n",
    "\n",
    "\\begin{equation}\n",
    "f(u, v) = \\sum_{p,q} A\\_p\\_q u^p v^q, \\quad p+q \\le \\textrm{A_Order}\n",
    "\\end{equation}\n",
    "\n",
    "and\n",
    "\n",
    "\\begin{equation}\n",
    "g(u, v) = \\sum_{p,q} B\\_p\\_q u^p v^q, \\quad p+q \\le \\textrm{B_Order}\n",
    "\\end{equation}.\n",
    "\n",
    "Apply the inverse of the matrix multiplication, we have $U$ and $V$ defined as power series of $u$ and $v$.\n",
    "\n",
    "\\begin{equation}\n",
    "\\begin{pmatrix}\n",
    "U\\\\\n",
    "V\n",
    "\\end{pmatrix}\n",
    "=\n",
    "\\mathrm{CD}^{-1}\n",
    "\\begin{pmatrix}\n",
    "x\\\\\n",
    "y\n",
    "\\end{pmatrix}\n",
    "=\n",
    "\\begin{pmatrix}\n",
    "u + f(u, v)\\\\\n",
    "v + g(u, v)\n",
    "\\end{pmatrix}\n",
    "\\end{equation}\n",
    "\n",
    "The behavior of $U$ and $V$ is smooth in $u$ and $v$. We expect the inverse is also smooth. Thus, we can expand $u$ and $v$ as power series of $U$ and $V$.\n",
    "\n",
    "\\begin{align}\n",
    "u' = U + F(U, V) = U + \\sum_{p,q} AP\\_p\\_q U^p V^q, \\quad p+q \\le \\textrm{AP_Order}\n",
    "\\end{align}\n",
    "\n",
    "\\begin{align}\n",
    "v' = V + G(U, V) = V + \\sum_{p,q} BP\\_p\\_q U^p V^q, \\quad p+q \\le \\textrm{BP_Order}\n",
    "\\end{align}\n",
    "\n",
    "Coefficients $AP\\_p\\_q$ and $BP\\_p\\_q$ can be fitted by comparing the residual between true $u$, $v$ and reconstructed $u$, $v$ from $U$, $V$. True $u$, $v$ are sampled from the grid of the image. To avoid unexpected contributions from high order terms, we can add bounds to the corresponding parameters in the fitting space."
   ]
  },
  {
   "cell_type": "markdown",
   "id": "18f8af2b-0a74-4a6c-93eb-cae58a389c9e",
   "metadata": {},
   "source": [
    "## Implementation"
   ]
  },
  {
   "cell_type": "code",
   "execution_count": null,
   "id": "bfd1a1ca-d929-422b-a43c-e6397c643a42",
   "metadata": {},
   "outputs": [],
   "source": []
  },
  {
   "cell_type": "code",
   "execution_count": 183,
   "id": "ec7a3941-a4b6-4d6e-88c2-c3ea21f50498",
   "metadata": {
    "tags": []
   },
   "outputs": [],
   "source": [
    "# file_path = '/pscratch/sd/s/shl159/Roman/test_image/Roman_TDS_simple_model_J129_166_10.fits'\n",
    "file_path = '/pscratch/sd/s/shl159/Roman/test_image/Roman_TDS_simple_model_J129_45219_14.fits'\n",
    "with fits.open(file_path) as hdul:\n",
    "    header = hdul[1].header\n",
    "    image = hdul[1].data"
   ]
  },
  {
   "cell_type": "code",
   "execution_count": 184,
   "id": "d37b9295-cb9e-4fb3-97c4-fb42933b64d6",
   "metadata": {
    "tags": []
   },
   "outputs": [],
   "source": [
    "truth = Table.read('/global/cfs/cdirs/lsst/shared/external/roman-desc-sims/Roman_data/RomanTDS/truth/J129/45219/Roman_TDS_index_J129_45219_14.txt', format='ascii')"
   ]
  },
  {
   "cell_type": "code",
   "execution_count": null,
   "id": "b46e44aa-df6e-4937-8ffe-79c014f71591",
   "metadata": {
    "tags": []
   },
   "outputs": [],
   "source": []
  },
  {
   "cell_type": "code",
   "execution_count": 180,
   "id": "3a2c8561-b555-43f0-9956-b5869d059189",
   "metadata": {
    "tags": []
   },
   "outputs": [],
   "source": []
  },
  {
   "cell_type": "code",
   "execution_count": 189,
   "id": "6874adcf-d0cc-49fb-a135-1e6c9542c403",
   "metadata": {
    "tags": []
   },
   "outputs": [],
   "source": [
    "x_phys = x_pixel + header.get('CRPIX1')\n",
    "y_phys = y_pixel + header.get('CRPIX2')\n",
    "x_corr = x_phys + header.get('A_0_2') * x_phys**0 * y_phys**2 + "
   ]
  },
  {
   "cell_type": "code",
   "execution_count": null,
   "id": "9a87adc0-4496-45d0-baf5-744bd1a45ed1",
   "metadata": {},
   "outputs": [],
   "source": [
    "A_0_2   =      3.851828071E-10                                                  \n",
    "A_0_3   =      5.492409696E-14                                                  \n",
    "A_0_4   =      3.825353128E-18                                                  \n",
    "A_1_1   =     -1.232185377E-09                                                  \n",
    "A_1_2   =     -9.743979693E-14                                                  \n",
    "A_1_3   =       2.66249338E-17                                                  \n",
    "A_2_0   =      3.802404353E-10                                                  \n",
    "A_2_1   =     -9.031463862E-14                                                  \n",
    "A_2_2   =     -6.271302544E-17                                                  \n",
    "A_3_0   =      2.325088216E-14                                                  \n",
    "A_3_1   =      2.521067326E-17                                                  \n",
    "A_4_0 "
   ]
  },
  {
   "cell_type": "code",
   "execution_count": 179,
   "id": "89e866ff-bdf6-4e03-8325-5ad62162cf29",
   "metadata": {
    "tags": []
   },
   "outputs": [],
   "source": [
    "row = truth[0]\n",
    "ra, dec, x_pixel, y_pixel = row['ra'], row['dec'], row['x'], row['y']"
   ]
  },
  {
   "cell_type": "code",
   "execution_count": 181,
   "id": "322b1799-af28-496f-8ad9-dfcbc80806c4",
   "metadata": {
    "tags": []
   },
   "outputs": [
    {
     "data": {
      "text/plain": [
       "(11.723552561368757, -46.64803701317142)"
      ]
     },
     "execution_count": 181,
     "metadata": {},
     "output_type": "execute_result"
    }
   ],
   "source": [
    "pixel_to_sky(x_pixel, y_pixel, header)"
   ]
  },
  {
   "cell_type": "code",
   "execution_count": 182,
   "id": "ec6d3107-177f-4743-8e92-cf45d2f390c6",
   "metadata": {
    "tags": []
   },
   "outputs": [
    {
     "data": {
      "text/plain": [
       "(7.63316274, -44.7858517)"
      ]
     },
     "execution_count": 182,
     "metadata": {},
     "output_type": "execute_result"
    }
   ],
   "source": [
    "ra, dec"
   ]
  },
  {
   "cell_type": "code",
   "execution_count": 188,
   "id": "872d81f1-1522-410a-b9a2-c2aba5a4b3e9",
   "metadata": {
    "tags": []
   },
   "outputs": [
    {
     "data": {
      "text/plain": [
       "2044.0"
      ]
     },
     "execution_count": 188,
     "metadata": {},
     "output_type": "execute_result"
    }
   ],
   "source": []
  },
  {
   "cell_type": "code",
   "execution_count": 169,
   "id": "374caa7d-70e2-4df6-8abc-197de6e7e733",
   "metadata": {
    "tags": []
   },
   "outputs": [
    {
     "data": {
      "text/plain": [
       "XTENSION= 'IMAGE   '           / Image extension                                \n",
       "BITPIX  =                  -64 / array data type                                \n",
       "NAXIS   =                    2 / number of array dimensions                     \n",
       "NAXIS1  =                 4088                                                  \n",
       "NAXIS2  =                 4088                                                  \n",
       "PCOUNT  =                    0 / number of parameters                           \n",
       "GCOUNT  =                    1 / number of groups                               \n",
       "EXPTIME =              302.275                                                  \n",
       "MJD-OBS =            62585.777                                                  \n",
       "DATE-OBS= '2030-03-25 18:38:52.800000'                                          \n",
       "FILTER  = 'J129    '                                                            \n",
       "ZPTMAG  =    17.63810856226013                                                  \n",
       "GS_XMIN =                    1 / GalSim image minimum x coordinate              \n",
       "GS_YMIN =                    1 / GalSim image minimum y coordinate              \n",
       "GS_WCS  = 'GSFitsWCS'          / GalSim WCS name                                \n",
       "CTYPE1  = 'RA---TAN-SIP'                                                        \n",
       "CTYPE2  = 'DEC--TAN-SIP'                                                        \n",
       "CRPIX1  =               2044.0                                                  \n",
       "CRPIX2  =               2044.0                                                  \n",
       "CD1_1   = 8.65245719424487E-06                                                  \n",
       "CD1_2   = 2.83384560471247E-05                                                  \n",
       "CD2_1   = -2.8938086070089E-05                                                  \n",
       "CD2_2   = 7.80537644488734E-06                                                  \n",
       "CUNIT1  = 'deg     '                                                            \n",
       "CUNIT2  = 'deg     '                                                            \n",
       "CRVAL1  =    7.529851156342337                                                  \n",
       "CRVAL2  =  -44.752717803334335                                                  \n",
       "A_ORDER =                    4                                                  \n",
       "A_0_2   =      3.851828071E-10                                                  \n",
       "A_0_3   =      5.492409696E-14                                                  \n",
       "A_0_4   =      3.825353128E-18                                                  \n",
       "A_1_1   =     -1.232185377E-09                                                  \n",
       "A_1_2   =     -9.743979693E-14                                                  \n",
       "A_1_3   =       2.66249338E-17                                                  \n",
       "A_2_0   =      3.802404353E-10                                                  \n",
       "A_2_1   =     -9.031463862E-14                                                  \n",
       "A_2_2   =     -6.271302544E-17                                                  \n",
       "A_3_0   =      2.325088216E-14                                                  \n",
       "A_3_1   =      2.521067326E-17                                                  \n",
       "A_4_0   =      1.425534054E-17                                                  \n",
       "B_ORDER =                    4                                                  \n",
       "B_0_2   =     -1.175573884E-09                                                  \n",
       "B_0_3   =      1.303875779E-14                                                  \n",
       "B_0_4   =      1.602230927E-17                                                  \n",
       "B_1_1   =     -1.793186122E-11                                                  \n",
       "B_1_2   =     -1.532973486E-13                                                  \n",
       "B_1_3   =     -3.870326104E-17                                                  \n",
       "B_2_0   =      5.982538571E-11                                                  \n",
       "B_2_1   =      1.443685076E-13                                                  \n",
       "B_2_2   =      1.727380843E-17                                                  \n",
       "B_3_0   =      2.897221014E-14                                                  \n",
       "B_3_1   =      2.713725388E-17                                                  \n",
       "B_4_0   =      1.591294122E-18                                                  \n",
       "EQUINOX =               2000.0                                                  \n",
       "WCSAXES =                    2                                                  \n",
       "WCSNAME = 'wfiwcs_20210204_d2'                                                  \n",
       "TELESCOP= 'Roman   '                                                            \n",
       "INSTRUME= 'WFC     '                                                            \n",
       "RA_TARG =              7.49532                                                  \n",
       "DEC_TARG=             -44.9716                                                  \n",
       "PA_OBSY =  -46.027137944044796                                                  \n",
       "PA_FPA  =    73.97286205595519                                                  \n",
       "SCA_NUM =                   14                                                  \n",
       "ORIENTAT=     73.9484567697711                                                  \n",
       "LONPOLE =                180.0                                                  \n",
       "SKY_MEAN=            120.99999                                                  \n",
       "EXTNAME = 'SCI     '           / extension name                                 \n",
       "EXTVER  =                    1 / extension value                                "
      ]
     },
     "execution_count": 169,
     "metadata": {},
     "output_type": "execute_result"
    }
   ],
   "source": [
    "header"
   ]
  },
  {
   "cell_type": "code",
   "execution_count": null,
   "id": "f30a979b-6c5d-4095-a977-e6f7d20226d5",
   "metadata": {},
   "outputs": [],
   "source": []
  },
  {
   "cell_type": "code",
   "execution_count": null,
   "id": "cae751cd-cf71-49d6-9c7a-907a3bbd1be1",
   "metadata": {},
   "outputs": [],
   "source": []
  },
  {
   "cell_type": "code",
   "execution_count": null,
   "id": "8edd22e2-74bd-45dd-9e4e-d80acfb29f76",
   "metadata": {},
   "outputs": [],
   "source": []
  },
  {
   "cell_type": "code",
   "execution_count": null,
   "id": "aa740a47-6eab-471d-9b4e-db0534c9f30a",
   "metadata": {},
   "outputs": [],
   "source": []
  },
  {
   "cell_type": "code",
   "execution_count": null,
   "id": "dcc8701b-dc78-44a8-9dae-9fcc0994c6ab",
   "metadata": {},
   "outputs": [],
   "source": []
  },
  {
   "cell_type": "code",
   "execution_count": null,
   "id": "ca43b37d-533c-42dc-9a69-b07216d0289e",
   "metadata": {},
   "outputs": [],
   "source": []
  },
  {
   "cell_type": "code",
   "execution_count": null,
   "id": "8c07d967-2465-42ef-b488-2069c1c3fbbd",
   "metadata": {},
   "outputs": [],
   "source": []
  },
  {
   "cell_type": "code",
   "execution_count": null,
   "id": "3b57ac1d-7fba-4673-bc05-4136f097a4bd",
   "metadata": {},
   "outputs": [],
   "source": []
  },
  {
   "cell_type": "code",
   "execution_count": null,
   "id": "f1b1ce86-f7d5-4208-aa1a-3864f7700aca",
   "metadata": {},
   "outputs": [],
   "source": []
  },
  {
   "cell_type": "code",
   "execution_count": null,
   "id": "e5619794-5dcc-4b40-a988-9a745a38279f",
   "metadata": {},
   "outputs": [],
   "source": []
  },
  {
   "cell_type": "code",
   "execution_count": null,
   "id": "0817e913-37ac-45fe-a3ab-761e1e0c85ad",
   "metadata": {},
   "outputs": [],
   "source": []
  },
  {
   "cell_type": "code",
   "execution_count": null,
   "id": "53b5517a-a7a8-4791-a364-68b5ba67e722",
   "metadata": {},
   "outputs": [],
   "source": []
  },
  {
   "cell_type": "code",
   "execution_count": null,
   "id": "7d7b084f-fae2-4021-b136-cf7c073336c9",
   "metadata": {},
   "outputs": [],
   "source": []
  },
  {
   "cell_type": "code",
   "execution_count": null,
   "id": "a47396d4-9b00-440b-a4c2-4a73c745fca7",
   "metadata": {},
   "outputs": [],
   "source": []
  },
  {
   "cell_type": "code",
   "execution_count": null,
   "id": "9e44b12f-cff1-424b-8be1-98764c574a9b",
   "metadata": {
    "tags": []
   },
   "outputs": [],
   "source": []
  },
  {
   "cell_type": "code",
   "execution_count": 133,
   "id": "bd9f0cdf-68c4-444d-a80f-ac66674a2407",
   "metadata": {
    "tags": []
   },
   "outputs": [],
   "source": [
    "def get_AB_from_header(header, A_order, B_order, verbose=True):\n",
    "    \"\"\"get A, B coefficients from fits header\"\"\"\n",
    "    A = cp.zeros((A_order + 1, A_order + 1))\n",
    "    B = cp.zeros((B_order + 1, B_order + 1))\n",
    "\n",
    "    for i in range(0, A_order + 1):\n",
    "        for j in range(0, A_order - i + 1):\n",
    "            try:\n",
    "                A[i,j] = header[f'A_{i}_{j}'] \n",
    "            except KeyError:\n",
    "                if verbose:\n",
    "                    print(f\"Keyword 'A_{i}_{j}' not found, skipping...\")\n",
    "                continue\n",
    "\n",
    "    for i in range(0, B_order + 1):\n",
    "        for j in range(0, B_order - i + 1):\n",
    "            try:\n",
    "                B[i,j] = header[f'B_{i}_{j}']\n",
    "            except KeyError:\n",
    "                if verbose:\n",
    "                    print(f\"Keyword 'B_{i}_{j}' not found, skipping...\")\n",
    "                continue\n",
    "    return A, B"
   ]
  },
  {
   "cell_type": "code",
   "execution_count": 134,
   "id": "29df2cdb-417f-480c-888d-7217d92e717e",
   "metadata": {
    "tags": []
   },
   "outputs": [],
   "source": [
    "def sample_grid(u_max, v_max, npoints_in_u_axis, npoints_in_v_axis):\n",
    "    \"\"\"Sample pixel points from a grid using CuPy.\"\"\"\n",
    "    u_coords = cp.linspace(1, u_max, npoints_in_u_axis)\n",
    "    v_coords = cp.linspace(1, v_max, npoints_in_v_axis)\n",
    "    # u_coords = cp.random.uniform(1, u_max, npoints_in_u_axis)\n",
    "    # v_coords = cp.random.uniform(1, v_max, npoints_in_v_axis)\n",
    "    u, v = cp.meshgrid(u_coords, v_coords)\n",
    "\n",
    "    return u, v\n",
    "\n",
    "def polynomial_sum(u, v, coef):\n",
    "    \"\"\"Evaluate the polynomial sum on GPU using CuPy.\"\"\"\n",
    "    order = coef.shape[0] - 1\n",
    "    result = cp.zeros_like(u)\n",
    "    \n",
    "    for i in range(order + 1):\n",
    "        for j in range(order - i + 1):\n",
    "            result += coef[i, j] * (u**i) * (v**j)\n",
    "    \n",
    "    return result\n",
    "\n",
    "def compute_uv_UV(width, height, A, B, AP_order, BP_order, npoints_in_u_axis, npoints_in_v_axis):\n",
    "    \"\"\"Compute u, v, U, V using CuPy.\"\"\"\n",
    "    u, v = sample_grid(width - 1, height - 1, npoints_in_u_axis, npoints_in_v_axis)\n",
    "    f_uv = polynomial_sum(u, v, A)\n",
    "    g_uv = polynomial_sum(u, v, B)\n",
    "\n",
    "    U = u + f_uv\n",
    "    V = v + g_uv\n",
    "\n",
    "    return u, v, U, V\n",
    "\n",
    "\n",
    "def compute_UV_bases(U, V, order):\n",
    "    n_terms = (order + 1) * (order + 2) // 2\n",
    "    \n",
    "    result = cp.zeros((U.shape[0], U.shape[1], n_terms))\n",
    "    \n",
    "    index = 0\n",
    "    for i in range(order + 1):\n",
    "        for j in range(order - i + 1):\n",
    "            result[:, :, index] = U**i * V**j\n",
    "            index += 1\n",
    "            \n",
    "    return result\n",
    "\n",
    "def unpack_coef(coef, order):\n",
    "    \"\"\"Unpack fitted coefficients from cupy array to dictionary\"\"\"\n",
    "    result = {}\n",
    "    count = 0\n",
    "    for i in range(order + 1):\n",
    "        for j in range(order - i + 1):\n",
    "            result[f'{i}{j}'] = coef[count]\n",
    "            count += 1\n",
    "    return result"
   ]
  },
  {
   "cell_type": "code",
   "execution_count": 135,
   "id": "df87675e-644a-47ca-bb23-950b020a6382",
   "metadata": {
    "tags": []
   },
   "outputs": [],
   "source": [
    "A_order = 4\n",
    "B_order = 4\n",
    "\n",
    "AP_order = 4\n",
    "BP_order = 4\n",
    "\n",
    "width, height = image.shape"
   ]
  },
  {
   "cell_type": "code",
   "execution_count": 147,
   "id": "b29d0aad-e587-4ebb-a405-ece7913cac89",
   "metadata": {
    "tags": []
   },
   "outputs": [
    {
     "name": "stdout",
     "output_type": "stream",
     "text": [
      "Keyword 'A_0_0' not found, skipping...\n",
      "Keyword 'A_0_1' not found, skipping...\n",
      "Keyword 'A_1_0' not found, skipping...\n",
      "Keyword 'B_0_0' not found, skipping...\n",
      "Keyword 'B_0_1' not found, skipping...\n",
      "Keyword 'B_1_0' not found, skipping...\n"
     ]
    }
   ],
   "source": [
    "A, B = get_AB_from_header(header, A_order, B_order, verbose=True)"
   ]
  },
  {
   "cell_type": "code",
   "execution_count": 148,
   "id": "ba707e6c-3888-4884-881d-c652f06ea2ef",
   "metadata": {
    "tags": []
   },
   "outputs": [],
   "source": [
    "npoints_in_u_axis = 200\n",
    "npoints_in_v_axis = 200\n",
    "u, v, U, V = compute_uv_UV(width, height, A, B, AP_order, BP_order, npoints_in_u_axis, npoints_in_v_axis)"
   ]
  },
  {
   "cell_type": "code",
   "execution_count": 149,
   "id": "1858cfc9-3cdb-456d-b693-8a6527ebd182",
   "metadata": {
    "tags": []
   },
   "outputs": [
    {
     "data": {
      "text/plain": [
       "<matplotlib.image.AxesImage at 0x7f62175c9510>"
      ]
     },
     "execution_count": 149,
     "metadata": {},
     "output_type": "execute_result"
    },
    {
     "data": {
      "image/png": "[encoded data removed]",
      "text/plain": [
       "<Figure size 640x480 with 2 Axes>"
      ]
     },
     "metadata": {},
     "output_type": "display_data"
    }
   ],
   "source": [
    "fig, axes = plt.subplots(1, 2)\n",
    "axes[0].imshow(u.get())\n",
    "axes[1].imshow(v.get())"
   ]
  },
  {
   "cell_type": "markdown",
   "id": "821c02a7-7bff-4aa5-9d5d-63172dab558c",
   "metadata": {},
   "source": [
    "If AP_order and BP_order are the same, bases only need to be computed once\n",
    "\n",
    "F_UV_bases = G_UG_bases"
   ]
  },
  {
   "cell_type": "code",
   "execution_count": 153,
   "id": "0cc7be7a-9934-4fc5-a340-46c9ce758387",
   "metadata": {
    "tags": []
   },
   "outputs": [],
   "source": [
    "F_UV_bases = compute_UV_bases(U, V, AP_order)\n",
    "G_UV_bases = compute_UV_bases(U, V, BP_order)"
   ]
  },
  {
   "cell_type": "markdown",
   "id": "e7bca8d9-a542-46d1-898b-d12d925b2ca5",
   "metadata": {},
   "source": [
    "Using even sampling can cause numerical degeneracy (Vandermonde matrix and conditioning, Runge's phenomenon, ...), though it does not affect fitting here."
   ]
  },
  {
   "cell_type": "code",
   "execution_count": 154,
   "id": "74ac00c4-a16f-4b3c-af32-71900fec3553",
   "metadata": {
    "tags": []
   },
   "outputs": [
    {
     "data": {
      "text/plain": [
       "(40000, 15)"
      ]
     },
     "execution_count": 154,
     "metadata": {},
     "output_type": "execute_result"
    }
   ],
   "source": [
    "F_UV_bases.reshape(-1, F_UV_bases.shape[2]).get().shape"
   ]
  },
  {
   "cell_type": "code",
   "execution_count": 155,
   "id": "f89913ef-2594-454f-819b-e070db5e3f4d",
   "metadata": {
    "tags": []
   },
   "outputs": [
    {
     "data": {
      "text/plain": [
       "12"
      ]
     },
     "execution_count": 155,
     "metadata": {},
     "output_type": "execute_result"
    }
   ],
   "source": [
    "np.linalg.matrix_rank(\n",
    "    F_UV_bases.reshape(-1, F_UV_bases.shape[2]).get()\n",
    ")"
   ]
  },
  {
   "cell_type": "code",
   "execution_count": 156,
   "id": "857c3394-a041-4a60-8d25-b1fda682e9fe",
   "metadata": {
    "tags": []
   },
   "outputs": [
    {
     "name": "stdout",
     "output_type": "stream",
     "text": [
      "5.17 ms ± 477 μs per loop (mean ± std. dev. of 7 runs, 100 loops each)\n"
     ]
    }
   ],
   "source": [
    "%timeit cp.linalg.lstsq(F_UV_bases.reshape(-1, F_UV_bases.shape[2]), (u - U).reshape(-1, 1) )"
   ]
  },
  {
   "cell_type": "code",
   "execution_count": 157,
   "id": "0b3aab51-e86e-48d1-ab0e-5da7aecd26a2",
   "metadata": {
    "tags": []
   },
   "outputs": [],
   "source": [
    "AP_coef, u_res, _, _ = cp.linalg.lstsq(\n",
    "    F_UV_bases.reshape(-1, F_UV_bases.shape[2]),\n",
    "    (u - U).reshape(-1, 1)\n",
    ")\n",
    "\n",
    "BP_coef, v_res, _, _ = cp.linalg.lstsq(\n",
    "    G_UV_bases.reshape(-1, G_UV_bases.shape[2]),\n",
    "    (v - V).reshape(-1, 1)\n",
    ")\n",
    "\n",
    "AP = unpack_coef(AP_coef, AP_order)\n",
    "BP = unpack_coef(BP_coef, BP_order)"
   ]
  },
  {
   "cell_type": "code",
   "execution_count": 158,
   "id": "9841d2d8-29fe-49eb-89b2-25d94d43e117",
   "metadata": {
    "tags": []
   },
   "outputs": [
    {
     "data": {
      "text/plain": [
       "(array([2.65935468e-13]), array([1.78368748e-13]))"
      ]
     },
     "execution_count": 158,
     "metadata": {},
     "output_type": "execute_result"
    }
   ],
   "source": [
    "u_res, v_res"
   ]
  },
  {
   "cell_type": "code",
   "execution_count": null,
   "id": "f3b0db0d-d439-4477-886a-1ec36ac88edb",
   "metadata": {},
   "outputs": [],
   "source": []
  },
  {
   "cell_type": "markdown",
   "id": "4da00bb6-b974-408f-8f13-19191435270d",
   "metadata": {},
   "source": [
    "## Test on 2000 $\\times$ 2000 grid"
   ]
  },
  {
   "cell_type": "code",
   "execution_count": 159,
   "id": "38f58e40-a5e7-4fba-95cb-ce32dc6e4578",
   "metadata": {
    "tags": []
   },
   "outputs": [],
   "source": [
    "import matplotlib.pyplot as plt"
   ]
  },
  {
   "cell_type": "code",
   "execution_count": 160,
   "id": "a447cd7c-66a6-4142-b32d-72e0d2101494",
   "metadata": {
    "tags": []
   },
   "outputs": [],
   "source": [
    "u, v, U, V = compute_uv_UV(width, height, A, B, AP_order, BP_order, npoints_in_u_axis=200, npoints_in_v_axis=200)\n",
    "# If AP_order and BP_order are the same, bases only need to be computed once\n",
    "# F_UV_bases = G_UG_bases\n",
    "F_UV_bases = compute_UV_bases(U, V, AP_order)\n",
    "G_UV_bases = compute_UV_bases(U, V, BP_order)"
   ]
  },
  {
   "cell_type": "code",
   "execution_count": 161,
   "id": "d925a514-058d-4a34-bfcd-e40d1644bb76",
   "metadata": {
    "tags": []
   },
   "outputs": [],
   "source": [
    "F_UV = cp.squeeze(\n",
    "    cp.tensordot(F_UV_bases, AP_coef, axes=((2), (0)))\n",
    ")\n",
    "G_UV = cp.squeeze(\n",
    "    cp.tensordot(G_UV_bases, BP_coef, axes=((2), (0)))\n",
    ")"
   ]
  },
  {
   "cell_type": "code",
   "execution_count": 162,
   "id": "dd15015a-fa33-4a97-b6d1-6bc94f1a9170",
   "metadata": {
    "tags": []
   },
   "outputs": [
    {
     "data": {
      "text/plain": [
       "Text(0.5, 1.0, 'v')"
      ]
     },
     "execution_count": 162,
     "metadata": {},
     "output_type": "execute_result"
    },
    {
     "data": {
      "image/png": "[encoded data removed]",
      "text/plain": [
       "<Figure size 640x480 with 2 Axes>"
      ]
     },
     "metadata": {},
     "output_type": "display_data"
    }
   ],
   "source": [
    "fig, axes = plt.subplots(1, 2)\n",
    "axes[0].imshow(u.get())\n",
    "axes[0].set_title('u')\n",
    "axes[1].imshow(v.get())\n",
    "axes[1].set_title('v')"
   ]
  },
  {
   "cell_type": "code",
   "execution_count": 163,
   "id": "dca0eb78-4f3b-447b-a4a0-42340ee15ce7",
   "metadata": {
    "tags": []
   },
   "outputs": [
    {
     "data": {
      "text/plain": [
       "Text(0.5, 1.0, 'V')"
      ]
     },
     "execution_count": 163,
     "metadata": {},
     "output_type": "execute_result"
    },
    {
     "data": {
      "image/png": "[encoded data removed]",
      "text/plain": [
       "<Figure size 640x480 with 2 Axes>"
      ]
     },
     "metadata": {},
     "output_type": "display_data"
    }
   ],
   "source": [
    "fig, axes = plt.subplots(1, 2)\n",
    "axes[0].imshow(U.get())\n",
    "axes[0].set_title('U')\n",
    "axes[1].imshow(V.get())\n",
    "axes[1].set_title('V')"
   ]
  },
  {
   "cell_type": "code",
   "execution_count": null,
   "id": "18d7cffe-e3ae-4278-bebb-3ab0e232cf3f",
   "metadata": {
    "tags": []
   },
   "outputs": [],
   "source": []
  },
  {
   "cell_type": "code",
   "execution_count": 164,
   "id": "7249bbd3-1796-47c6-8a2f-9dc541344921",
   "metadata": {
    "tags": []
   },
   "outputs": [
    {
     "data": {
      "text/plain": [
       "Text(0.5, 1.0, 'v - V - G_UV')"
      ]
     },
     "execution_count": 164,
     "metadata": {},
     "output_type": "execute_result"
    },
    {
     "data": {
      "image/png": "[encoded data removed]",
      "text/plain": [
       "<Figure size 1000x400 with 2 Axes>"
      ]
     },
     "metadata": {},
     "output_type": "display_data"
    }
   ],
   "source": [
    "fig, axes = plt.subplots(1, 2, figsize=(10, 4))\n",
    "axes[0].hist((u - U - F_UV).get().ravel())\n",
    "axes[0].set_title('u - U - F_UV')\n",
    "axes[1].hist((v - V - G_UV).get().ravel())\n",
    "axes[1].set_title('v - V - G_UV')"
   ]
  },
  {
   "cell_type": "code",
   "execution_count": null,
   "id": "a0dcd9f4-8d72-4a68-a6f1-a6f8b4b14869",
   "metadata": {
    "tags": []
   },
   "outputs": [],
   "source": []
  },
  {
   "cell_type": "code",
   "execution_count": 165,
   "id": "9d8707a2-96d4-4c3d-a093-4734d3ebfaab",
   "metadata": {
    "tags": []
   },
   "outputs": [
    {
     "data": {
      "text/plain": [
       "Text(0.5, 1.0, 'v - V')"
      ]
     },
     "execution_count": 165,
     "metadata": {},
     "output_type": "execute_result"
    },
    {
     "data": {
      "image/png": "[encoded data removed]",
      "text/plain": [
       "<Figure size 800x400 with 2 Axes>"
      ]
     },
     "metadata": {},
     "output_type": "display_data"
    }
   ],
   "source": [
    "fig, axes = plt.subplots(1, 2, figsize=(8, 4))\n",
    "axes[0].hist((u - U).get().ravel())\n",
    "axes[0].set_title('u - U')\n",
    "axes[1].hist((v - V).get().ravel())\n",
    "axes[1].set_title('v - V')"
   ]
  },
  {
   "cell_type": "code",
   "execution_count": null,
   "id": "06343929-e9d7-40ae-8cc3-33b929a5dedc",
   "metadata": {
    "tags": []
   },
   "outputs": [],
   "source": []
  },
  {
   "cell_type": "code",
   "execution_count": null,
   "id": "fcba6519-85c8-48f9-b345-0abc3c9109b7",
   "metadata": {
    "tags": []
   },
   "outputs": [],
   "source": []
  },
  {
   "cell_type": "code",
   "execution_count": null,
   "id": "9f8224a9-bbd7-4d64-a7fe-b146fc7e6022",
   "metadata": {},
   "outputs": [],
   "source": []
  },
  {
   "cell_type": "code",
   "execution_count": null,
   "id": "708237d5-14fa-44c1-a488-723834ec6a6e",
   "metadata": {},
   "outputs": [],
   "source": []
  },
  {
   "cell_type": "code",
   "execution_count": null,
   "id": "8631c8df-f7e4-4da0-89cf-b2e375f65e98",
   "metadata": {},
   "outputs": [],
   "source": []
  },
  {
   "cell_type": "code",
   "execution_count": null,
   "id": "413bb5e3-9d26-4d32-9dbc-f337212924d2",
   "metadata": {},
   "outputs": [],
   "source": []
  },
  {
   "cell_type": "code",
   "execution_count": null,
   "id": "a2bcf881-5386-4dcb-9568-599fa9d08be2",
   "metadata": {},
   "outputs": [],
   "source": []
  },
  {
   "cell_type": "code",
   "execution_count": null,
   "id": "075a3893-77b1-431e-b8f9-81763ede2f31",
   "metadata": {},
   "outputs": [],
   "source": []
  },
  {
   "cell_type": "code",
   "execution_count": null,
   "id": "5f25569b-9218-4fab-bfef-957b2d5bb32b",
   "metadata": {},
   "outputs": [],
   "source": []
  }
 ],
 "metadata": {
  "kernelspec": {
   "display_name": "EPy310\n\n\n",
   "language": "python",
   "name": "epy310"
  },
  "language_info": {
   "codemirror_mode": {
    "name": "ipython",
    "version": 3
   },
   "file_extension": ".py",
   "mimetype": "text/x-python",
   "name": "python",
   "nbconvert_exporter": "python",
   "pygments_lexer": "ipython3",
   "version": "3.10.4"
  }
 },
 "nbformat": 4,
 "nbformat_minor": 5
}
