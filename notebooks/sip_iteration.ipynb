{
 "cells": [
  {
   "cell_type": "markdown",
   "id": "56d9a694-1ffd-449f-8ba2-320054544ec5",
   "metadata": {},
   "source": [
    "# Inverse Solution of the Simple Image Polynomial Method Using Fixed-point Iteration Method"
   ]
  },
  {
   "cell_type": "code",
   "execution_count": 145,
   "id": "73a5112e-46c0-455c-a087-37c33033fffb",
   "metadata": {},
   "outputs": [],
   "source": [
    "from astropy.io import fits\n",
    "import numpy as np\n",
    "import matplotlib.pyplot as plt\n",
    "from astropy.table import Table\n",
    "from astropy.wcs import WCS"
   ]
  },
  {
   "cell_type": "code",
   "execution_count": 146,
   "id": "4dfef55a-c0b5-499c-bd30-f6a3d9ba699c",
   "metadata": {
    "tags": []
   },
   "outputs": [],
   "source": [
    "import cupy as cp"
   ]
  },
  {
   "cell_type": "markdown",
   "id": "41d5b87d-90ce-474a-be08-9b8d91129328",
   "metadata": {},
   "source": [
    "In Astronomy, we use [simple image polynomial convention](https://irsa.ipac.caltech.edu/data/SPITZER/docs/files/spitzer/shupeADASS.pdf) to perform coordinate transform, which transform (original) pixel coordinates $uv$ to corrected coordinates $UV$. The transform is defined as\n",
    "\n",
    "\\begin{equation}\n",
    "\\begin{pmatrix}\n",
    "U \\\\\n",
    "V\n",
    "\\end{pmatrix}\n",
    "=\n",
    "\\begin{pmatrix}\n",
    "u - f(u, v)\\\\\n",
    "v - g(u, v)\n",
    "\\end{pmatrix}\n",
    "\\end{equation}\n",
    "\n",
    "Here $uv$ are known coordinates. $f$ and $g$ are known functions, which are defined as Taylor series\n",
    "\n",
    "\\begin{equation}\n",
    "f(u, v) = \\sum_{p,q} A\\_p\\_q u^p v^q, \\quad p+q \\le \\textrm{A_Order}\n",
    "\\end{equation}\n",
    "\n",
    "and\n",
    "\n",
    "\\begin{equation}\n",
    "g(u, v) = \\sum_{p,q} B\\_p\\_q u^p v^q, \\quad p+q \\le \\textrm{B_Order}\n",
    "\\end{equation}\n",
    "\n",
    "\n",
    "Sometimes, we need to solve the the inverse probelm with known $UV$. We want to solve $uv$ has functions of $UV$.\n",
    "\n",
    "One straightforward approach is to use Taylor expandsion and $\\chi^2$ fitting. First, we express $u$ and $v$ as Taylor series of $U$ and $V$ with unknow coefficients. Second, we sample points from the $uv$ plane and compute the corresponding $U$ and $V$. Next, we use the computed $U$ $V$ and unknow coefficients to predict $u$ and $v$. Finally, we minimize the distance between the predicted $u$ $v$ and true $u$ $v$ to find the unknow expansion coefficients.\n",
    "\n",
    "This method should work in principal but has many limitations in practice. First, we need to choose polynomial orders of $U$ and $V$, which may not be sufficint for convergence. Second, high order polynomials sampled from even grids suffer from degeneracy issue, which decerase its fitting ability.\n",
    "\n",
    "To overcome these problems, we implement the [fixed-point iteration](https://en.wikipedia.org/wiki/Fixed-point_iteration) method. This method is adoped in astropy [\\_all_world2pix](https://github.com/astropy/astropy/blob/main/astropy/wcs/wcs.py#L1692) method, which achieves better performance in terms of accuray. Our implementation leverages `cupy` and GPU to accelerate the computation, which is a bottleneck of the \\_all_world2pix method.\n",
    "\n",
    "The fixed-point iteration method takes the adavantage of a special class of functions called contractive mapping. The distance between two points $x1$ and $x2$ decreases after applying the contractive mapping $T$. Mathematically, this can be expressed as $|T(x1) - T(x2)| \\lt |x1 - x2|$. Repeatedly applying contractive mapping to a given point will eventually converge to its fixed point $x^*$, where we have $x^*=T(x^*)$.\n",
    "\n",
    "The solution of $uv$ can be expressed as fixed=point problem.\n",
    "\n",
    "\\begin{equation}\n",
    "\\begin{pmatrix}\n",
    "u \\\\\n",
    "v\n",
    "\\end{pmatrix}\n",
    "=\n",
    "\\begin{pmatrix}\n",
    "U - f(u, v)\\\\\n",
    "V - g(u, v)\n",
    "\\end{pmatrix}\n",
    "\\end{equation}\n",
    "\n",
    "We can pick initial guess $(u_0, v_0)$ and repeatedly apply $f$ and $g$ until the distance between $(u_n, v_n)$ and $(u_{n+1}, v_{n+1})$ is below our tolerance.\n",
    "\n",
    "Condition of convergence:\n",
    "\n",
    "Accorring to the mean value theorem, given a vector function $h$. $|h(x1) - h(x2)|\\le | \\nabla h(c) | |x1 - x2|$ with $\\nabla h(c)$ as the Jacobian at c on the line segment between $x1$ and $x2$. (The 1D analogy is |h(x1) - h(x2)| = |h'(c)| |x1 - x2|) If the norm of the Jacobian $| \\nabla h(c) |$ is smaller than 1, we have $|h(x1) - h(x2)|\\lt |x1 - x2|$, which satisfies the requirement of contractive mapping. For the SIP algorithm, the coefficients A_Order and B_Order of $f$ and $g$ are at the scale between e-18 and 1e-9. Thus, the norm of the Jacobian matrix should be less than 1 in most cases."
   ]
  },
  {
   "cell_type": "code",
   "execution_count": null,
   "id": "ea78bdef-2047-4364-9135-bf4cc7bfa5b1",
   "metadata": {
    "tags": []
   },
   "outputs": [],
   "source": []
  },
  {
   "cell_type": "code",
   "execution_count": 153,
   "id": "7223e50d-a28e-474e-8210-f4f8fb405e9e",
   "metadata": {
    "tags": []
   },
   "outputs": [],
   "source": [
    "def get_AB_from_header(header, A_order, B_order, verbose=True):\n",
    "    \"\"\"get A, B coefficients from fits header\"\"\"\n",
    "    A = cp.zeros((A_order + 1, A_order + 1))\n",
    "    B = cp.zeros((B_order + 1, B_order + 1))\n",
    "\n",
    "    for i in range(0, A_order + 1):\n",
    "        for j in range(0, A_order - i + 1):\n",
    "            try:\n",
    "                A[i,j] = header[f'A_{i}_{j}'] \n",
    "            except KeyError:\n",
    "                if verbose:\n",
    "                    print(f\"Keyword 'A_{i}_{j}' not found, skipping...\")\n",
    "                continue\n",
    "\n",
    "    for i in range(0, B_order + 1):\n",
    "        for j in range(0, B_order - i + 1):\n",
    "            try:\n",
    "                B[i,j] = header[f'B_{i}_{j}']\n",
    "            except KeyError:\n",
    "                if verbose:\n",
    "                    print(f\"Keyword 'B_{i}_{j}' not found, skipping...\")\n",
    "                continue\n",
    "    return A, B\n",
    "\n",
    "def polynomial_sum(u, v, coef):\n",
    "    \"\"\"Evaluate the polynomial sum on GPU using CuPy.\"\"\"\n",
    "    order = coef.shape[0] - 1\n",
    "    result = cp.zeros_like(u)\n",
    "    \n",
    "    for i in range(order + 1):\n",
    "        for j in range(order - i + 1):\n",
    "            result += coef[i, j] * (u**i) * (v**j)\n",
    "    \n",
    "    return result\n",
    "\n",
    "def sample_grid(u_max, v_max, npoints_in_u_axis, npoints_in_v_axis):\n",
    "    \"\"\"Sample pixel points from a grid using CuPy.\"\"\"\n",
    "    u_coords = cp.linspace(1, u_max, npoints_in_u_axis)\n",
    "    v_coords = cp.linspace(1, v_max, npoints_in_v_axis)\n",
    "    # u_coords = cp.random.uniform(1, u_max, npoints_in_u_axis)\n",
    "    # v_coords = cp.random.uniform(1, v_max, npoints_in_v_axis)\n",
    "    u, v = cp.meshgrid(u_coords, v_coords)\n",
    "\n",
    "    return u, v\n",
    "\n",
    "\n",
    "\n",
    "def compute_uv_UV(width, height, A, B, AP_order, BP_order, npoints_in_u_axis, npoints_in_v_axis):\n",
    "    \"\"\"Compute u, v, U, V using CuPy.\"\"\"\n",
    "    u, v = sample_grid(width - 1, height - 1, npoints_in_u_axis, npoints_in_v_axis)\n",
    "    f_uv = polynomial_sum(u, v, A)\n",
    "    g_uv = polynomial_sum(u, v, B)\n",
    "\n",
    "    U = u + f_uv\n",
    "    V = v + g_uv\n",
    "\n",
    "    return u, v, U, V"
   ]
  },
  {
   "cell_type": "code",
   "execution_count": 154,
   "id": "25fa2dfc-48f5-495b-b7f9-d21aa417fa1e",
   "metadata": {
    "tags": []
   },
   "outputs": [],
   "source": [
    "file_path = '/pscratch/sd/s/shl159/Roman/test_image/Roman_TDS_simple_model_J129_45219_14.fits'\n",
    "with fits.open(file_path) as hdul:\n",
    "    header = hdul[1].header\n",
    "    image = hdul[1].data"
   ]
  },
  {
   "cell_type": "code",
   "execution_count": 212,
   "id": "f1a99715-fecc-4756-9f9b-f7d03de6e2f4",
   "metadata": {
    "tags": []
   },
   "outputs": [],
   "source": [
    "A_order = header.get('A_ORDER')\n",
    "B_order = header.get('B_ORDER')\n",
    "\n",
    "AP_order = 4\n",
    "BP_order = 4\n",
    "\n",
    "width, height = image.shape\n",
    "\n",
    "A, B = get_AB_from_header(header, A_order, B_order, verbose=False)\n",
    "\n",
    "A = A\n",
    "B = B\n",
    "\n",
    "npoints_in_u_axis = 200\n",
    "npoints_in_v_axis = 200"
   ]
  },
  {
   "cell_type": "code",
   "execution_count": 213,
   "id": "204749ae-2feb-4f66-aeb2-734327f49cf7",
   "metadata": {
    "tags": []
   },
   "outputs": [],
   "source": [
    "def corrected_to_original(U, V, A, B, tolerance=1e-8, max_iteration=10, check_convergence=True, verbose=True):\n",
    "\n",
    "    u_pre, v_pre = U.copy(), V.copy()\n",
    "    squared_tolerance = tolerance**2\n",
    "    iteration_count = 1\n",
    "    squared_distance = cp.ones_like(U) * cp.inf\n",
    "    if check_convergence:\n",
    "        squared_distance_pre = cp.ones_like(U) * cp.inf \n",
    "\n",
    "    while iteration_count <= max_iteration and cp.max(squared_distance) > squared_tolerance:\n",
    "        f_uv = polynomial_sum(u_pre, v_pre, A)\n",
    "        g_uv = polynomial_sum(u_pre, v_pre, B)\n",
    "        u_next = U - f_uv\n",
    "        v_next = V - g_uv\n",
    "        squared_distance = (u_next - u_pre)**2 + (v_next - v_pre)**2\n",
    "\n",
    "        # update for the next iteration\n",
    "        iteration_count += 1\n",
    "        u_pre = u_next.copy()\n",
    "        v_pre = v_next.copy()\n",
    "        if check_convergence:\n",
    "            convergent_status = cp.any(squared_distance > squared_distance_pre)\n",
    "            squared_distance_pre = squared_distance.copy()\n",
    "    if verbose:\n",
    "        print(f'iteration count: {iteration_count-1}')\n",
    "        if check_convergence and convergent_status:\n",
    "            print('[warning]: At least one of the input point fails to converge within the tolerance.')\n",
    "    return u_pre, v_pre"
   ]
  },
  {
   "cell_type": "code",
   "execution_count": 218,
   "id": "9ebc0e18-7cd7-4af3-a60e-ea440367bbc8",
   "metadata": {
    "tags": []
   },
   "outputs": [
    {
     "name": "stdout",
     "output_type": "stream",
     "text": [
      "iteration count: 3\n",
      "CPU times: user 15.9 ms, sys: 0 ns, total: 15.9 ms\n",
      "Wall time: 14.8 ms\n"
     ]
    }
   ],
   "source": [
    "%%time \n",
    "\n",
    "tolerance=1e-10\n",
    "max_iteration=50\n",
    "\n",
    "u, v, U, V = compute_uv_UV(width, height, A, B, AP_order, BP_order, npoints_in_u_axis, npoints_in_v_axis)\n",
    "u_pred, v_pred = corrected_to_original(U, V, A, B, tolerance=tolerance, max_iteration=max_iteration, check_convergence=True, verbose=True)"
   ]
  },
  {
   "cell_type": "code",
   "execution_count": 219,
   "id": "c0257bbc-8e96-40f8-920d-71bfc24f7fb6",
   "metadata": {
    "tags": []
   },
   "outputs": [
    {
     "data": {
      "image/png": "[encoded data removed]",
      "text/plain": [
       "<Figure size 800x400 with 2 Axes>"
      ]
     },
     "metadata": {},
     "output_type": "display_data"
    }
   ],
   "source": [
    "fig, axes = plt.subplots(1, 2, figsize=(8, 4))\n",
    "axes[0].hist((u - u_pred).get().ravel())\n",
    "axes[0].set_xlabel('$\\Delta$ u')\n",
    "axes[1].hist((v - v_pred).get().ravel())\n",
    "axes[1].set_xlabel('$\\Delta$ v');"
   ]
  },
  {
   "cell_type": "markdown",
   "id": "dae88564-a150-4841-90cd-a383afcb8e05",
   "metadata": {},
   "source": [
    "Magnify A and B by 1000, result still converges"
   ]
  },
  {
   "cell_type": "code",
   "execution_count": 226,
   "id": "66b1b0f9-61d0-4f67-b7ab-952ebc7444cb",
   "metadata": {
    "tags": []
   },
   "outputs": [
    {
     "name": "stdout",
     "output_type": "stream",
     "text": [
      "iteration count: 7\n",
      "CPU times: user 28.7 ms, sys: 1.33 ms, total: 30 ms\n",
      "Wall time: 28.8 ms\n"
     ]
    }
   ],
   "source": [
    "%%time \n",
    "\n",
    "tolerance=1e-10\n",
    "max_iteration=50\n",
    "u, v, U, V = compute_uv_UV(width, height, A*1000, B*1000, AP_order, BP_order, npoints_in_u_axis, npoints_in_v_axis)\n",
    "u_pred, v_pred = corrected_to_original(U, V, A*1000, B*1000, tolerance=tolerance, max_iteration=max_iteration, check_convergence=True, verbose=True)"
   ]
  },
  {
   "cell_type": "code",
   "execution_count": 227,
   "id": "86df85cf-7ad0-4dad-a889-84a5e6ea849a",
   "metadata": {
    "tags": []
   },
   "outputs": [
    {
     "data": {
      "image/png": "[encoded data removed]",
      "text/plain": [
       "<Figure size 800x400 with 2 Axes>"
      ]
     },
     "metadata": {},
     "output_type": "display_data"
    }
   ],
   "source": [
    "fig, axes = plt.subplots(1, 2, figsize=(8, 4))\n",
    "axes[0].hist((u - u_pred).get().ravel())\n",
    "axes[0].set_xlabel('$\\Delta$ u')\n",
    "axes[1].hist((v - v_pred).get().ravel())\n",
    "axes[1].set_xlabel('$\\Delta$ v');"
   ]
  },
  {
   "cell_type": "markdown",
   "id": "c1d5d810-7d98-4c96-ab12-0e1773ca21c4",
   "metadata": {},
   "source": [
    "## Adaptive approach"
   ]
  },
  {
   "cell_type": "code",
   "execution_count": 230,
   "id": "7835d5b5-03f6-417e-a741-c0316619d03a",
   "metadata": {
    "tags": []
   },
   "outputs": [],
   "source": [
    "\n",
    "def corrected_to_original_adaptive(U, V, A, B, tolerance=1e-8, max_iteration=10, check_divergence=True, verbose=True):\n",
    "    u_pre, v_pre = U.copy(), V.copy()\n",
    "    u_next, v_next = U.copy(), V.copy()\n",
    "    squared_tolerance = tolerance**2\n",
    "    iteration_count = 1\n",
    "\n",
    "    squared_distance = cp.ones_like(U) * cp.inf\n",
    "    squared_distance_pre = cp.ones_like(U) * cp.inf\n",
    "    # adaptive index\n",
    "    adapt_idx = cp.ones_like(U).astype(bool)\n",
    "\n",
    "    while iteration_count <= max_iteration and cp.max(squared_distance) > squared_tolerance:\n",
    "        f_uv = polynomial_sum(u_pre[adapt_idx], v_pre[adapt_idx], A)\n",
    "        g_uv = polynomial_sum(u_pre[adapt_idx], v_pre[adapt_idx], B)\n",
    "        u_next[adapt_idx] = U[adapt_idx] - f_uv\n",
    "        v_next[adapt_idx] = V[adapt_idx] - g_uv\n",
    "        squared_distance[adapt_idx] = (u_next[adapt_idx] - u_pre[adapt_idx])**2 + (v_next[adapt_idx] - v_pre[adapt_idx])**2\n",
    "\n",
    "        # update for the next iteration\n",
    "        if check_divergence:\n",
    "            divergent = squared_distance > squared_distance_pre\n",
    "\n",
    "            out_of_tolerance = squared_distance > squared_tolerance\n",
    "            adapt_idx = (~divergent) & out_of_tolerance\n",
    "        else:\n",
    "            adapt_idx = (squared_distance >= squared_tolerance).reshape(U.shape)\n",
    "\n",
    "        iteration_count += 1\n",
    "        u_pre = u_next.copy()\n",
    "        v_pre = v_next.copy()\n",
    "        squared_distance_pre = squared_distance.copy()\n",
    "\n",
    "    if verbose:\n",
    "        print(f'iteration count: {iteration_count-1}')\n",
    "        if cp.any(adapt_idx):\n",
    "            print('[warning]: At least one of the input point fails to converge within the tolerance')\n",
    "    return u_pre, v_pre\n"
   ]
  },
  {
   "cell_type": "code",
   "execution_count": 232,
   "id": "c1febd4f-6ce6-45aa-94a4-23caaf023749",
   "metadata": {
    "tags": []
   },
   "outputs": [
    {
     "name": "stdout",
     "output_type": "stream",
     "text": [
      "iteration count: 3\n",
      "CPU times: user 20.4 ms, sys: 0 ns, total: 20.4 ms\n",
      "Wall time: 19.3 ms\n"
     ]
    }
   ],
   "source": [
    "%%time \n",
    "\n",
    "\n",
    "tolerance=1e-10\n",
    "max_iteration=50\n",
    "u, v, U, V = compute_uv_UV(width, height, A, B, AP_order, BP_order, npoints_in_u_axis, npoints_in_v_axis)\n",
    "u_pred, v_pred = corrected_to_original_adaptive(U, V, A, B, tolerance=tolerance, max_iteration=max_iteration, check_divergence=True, verbose=True)"
   ]
  },
  {
   "cell_type": "code",
   "execution_count": 233,
   "id": "39063bea-784e-4cfc-918a-c4dd1656bb35",
   "metadata": {
    "tags": []
   },
   "outputs": [
    {
     "data": {
      "image/png": "[encoded data removed]",
      "text/plain": [
       "<Figure size 800x400 with 2 Axes>"
      ]
     },
     "metadata": {},
     "output_type": "display_data"
    }
   ],
   "source": [
    "\n",
    "fig, axes = plt.subplots(1, 2, figsize=(8, 4))\n",
    "axes[0].hist((u - u_pred).get().ravel())\n",
    "axes[0].set_xlabel('$\\Delta$ u')\n",
    "axes[1].hist((v - v_pred).get().ravel())\n",
    "axes[1].set_xlabel('$\\Delta$ v');"
   ]
  },
  {
   "cell_type": "code",
   "execution_count": null,
   "id": "35bd86c7-3146-4785-9078-a670fb73e5bb",
   "metadata": {},
   "outputs": [],
   "source": []
  },
  {
   "cell_type": "code",
   "execution_count": 234,
   "id": "520e0994-11a0-483d-a16c-8c1821c522c5",
   "metadata": {},
   "outputs": [
    {
     "name": "stdout",
     "output_type": "stream",
     "text": [
      "iteration count: 7\n",
      "CPU times: user 39.5 ms, sys: 0 ns, total: 39.5 ms\n",
      "Wall time: 38.4 ms\n"
     ]
    }
   ],
   "source": [
    "%%time \n",
    "\n",
    "\n",
    "tolerance=1e-10\n",
    "max_iteration=50\n",
    "u, v, U, V = compute_uv_UV(width, height, A*1000, B*1000, AP_order, BP_order, npoints_in_u_axis, npoints_in_v_axis)\n",
    "u_pred, v_pred = corrected_to_original_adaptive(U, V, A*1000, B*1000, tolerance=tolerance, max_iteration=max_iteration, check_divergence=True, verbose=True)"
   ]
  },
  {
   "cell_type": "code",
   "execution_count": 235,
   "id": "889be875-4d9c-479b-8f42-d46880a020e2",
   "metadata": {
    "tags": []
   },
   "outputs": [
    {
     "data": {
      "image/png": "[encoded data removed]",
      "text/plain": [
       "<Figure size 800x400 with 2 Axes>"
      ]
     },
     "metadata": {},
     "output_type": "display_data"
    }
   ],
   "source": [
    "\n",
    "fig, axes = plt.subplots(1, 2, figsize=(8, 4))\n",
    "axes[0].hist((u - u_pred).get().ravel())\n",
    "axes[0].set_xlabel('$\\Delta$ u')\n",
    "axes[1].hist((v - v_pred).get().ravel())\n",
    "axes[1].set_xlabel('$\\Delta$ v');"
   ]
  },
  {
   "cell_type": "code",
   "execution_count": null,
   "id": "8ca194da-c937-44af-acfb-4b76ac765382",
   "metadata": {},
   "outputs": [],
   "source": []
  }
 ],
 "metadata": {
  "kernelspec": {
   "display_name": "EPy310\n\n\n",
   "language": "python",
   "name": "epy310"
  },
  "language_info": {
   "codemirror_mode": {
    "name": "ipython",
    "version": 3
   },
   "file_extension": ".py",
   "mimetype": "text/x-python",
   "name": "python",
   "nbconvert_exporter": "python",
   "pygments_lexer": "ipython3",
   "version": "3.10.4"
  }
 },
 "nbformat": 4,
 "nbformat_minor": 5
}
