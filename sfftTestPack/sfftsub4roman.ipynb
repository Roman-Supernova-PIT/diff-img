{
 "cells": [
  {
   "cell_type": "code",
   "execution_count": 13,
   "id": "caa432eb-cc6d-49cc-a4d3-c1416c6acff3",
   "metadata": {
    "tags": []
   },
   "outputs": [],
   "source": [
    "# setup directory paths\n",
    "MAINDIR = '/run/mount/nas/Public/Thomas/RMSIM/ship2pitsn'   # FIXME\n",
    "input_dir = MAINDIR + '/input'\n",
    "output_dir = MAINDIR + '/output'\n",
    "aux_dir = MAINDIR + '/auxiliary'\n",
    "utils_dir = MAINDIR + '/utils'\n",
    "\n",
    "# setup reference & science filename\n",
    "refname = 'Roman_WAS_simple_model_H158_9758_15'\n",
    "sciname = 'Roman_WAS_simple_model_H158_11832_15'"
   ]
  },
  {
   "cell_type": "markdown",
   "id": "af3a58ad-2458-4b1c-8a57-6f5f117e26d6",
   "metadata": {},
   "source": [
    "### Preproc step1. extract science extension from input FITS"
   ]
  },
  {
   "cell_type": "code",
   "execution_count": 5,
   "id": "a0cc9c85-6142-4152-b103-6087770c1efa",
   "metadata": {
    "tags": []
   },
   "outputs": [],
   "source": [
    "import re\n",
    "import os.path as pa\n",
    "from astropy.io import fits\n",
    "\n",
    "# TODO: please funpack the .fz files in the directory or get the two input fits files from Lauren.\n",
    "FITS_REF0 = input_dir + '/%s.fits' %refname\n",
    "FITS_SCI0 = input_dir + '/%s.fits' %sciname\n",
    "\n",
    "for FITS_obj in [FITS_REF0, FITS_SCI0]:\n",
    "    FITS_out = output_dir + '/%s.sciE.fits' %(pa.basename(FITS_obj)[:-5])\n",
    "    with fits.open(FITS_obj) as hdl:\n",
    "        hdr1 = hdl[1].header\n",
    "        hdr1['GAIN'] = 1.0\n",
    "        hdr1['SATURATE'] = 120000.  # trivial placeholder\n",
    "        fits.HDUList([fits.PrimaryHDU(data=hdl[1].data, header=hdr1)])\\\n",
    "            .writeto(FITS_out, overwrite=True)\n"
   ]
  },
  {
   "cell_type": "markdown",
   "id": "237aa80a-4d52-412e-a3f7-b3d56bc06cd4",
   "metadata": {},
   "source": [
    "### Preproc step2. run sky subtraction using SourceExtractor \n",
    "#### NOTE: this step will be optional in future version"
   ]
  },
  {
   "cell_type": "code",
   "execution_count": 9,
   "id": "6232e1ee-4ece-443c-a4e0-caa83bc4fd62",
   "metadata": {
    "collapsed": true,
    "jupyter": {
     "outputs_hidden": true
    },
    "tags": []
   },
   "outputs": [
    {
     "name": "stdout",
     "output_type": "stream",
     "text": [
      "\n",
      "MeLOn CheckPoint [Roman_WAS_simple_model_H158_9758_15.sciE.fits]: Run Python Wrapper of SExtractor!\n",
      "MeLOn CheckPoint [Roman_WAS_simple_model_H158_9758_15.sciE.fits]: SExtractor uses SATURATION = [120000.0] from keyword [SATURATE]!\n",
      "MeLOn CheckPoint [Roman_WAS_simple_model_H158_9758_15.sciE.fits]: SExtractor found [5609] sources!\n",
      "MeLOn CheckPoint [Roman_WAS_simple_model_H158_9758_15.sciE.fits]: PYSEx output catalog contains [5609] sources!\n",
      "\n",
      "MeLOn CheckPoint [Roman_WAS_simple_model_H158_11832_15.sciE.fits]: Run Python Wrapper of SExtractor!\n",
      "MeLOn CheckPoint [Roman_WAS_simple_model_H158_11832_15.sciE.fits]: SExtractor uses SATURATION = [120000.0] from keyword [SATURATE]!\n",
      "MeLOn CheckPoint [Roman_WAS_simple_model_H158_11832_15.sciE.fits]: SExtractor found [5300] sources!\n",
      "MeLOn CheckPoint [Roman_WAS_simple_model_H158_11832_15.sciE.fits]: PYSEx output catalog contains [5300] sources!\n"
     ]
    }
   ],
   "source": [
    "import os\n",
    "import numpy as np\n",
    "from astropy.io import fits\n",
    "from sfft.utils.SExSkySubtract import SEx_SkySubtract\n",
    "\n",
    "FITS_REF1 = output_dir + '/%s.sciE.fits' %refname\n",
    "FITS_SCI1 = output_dir + '/%s.sciE.fits' %sciname\n",
    "\n",
    "for FITS_obj in [FITS_REF1, FITS_SCI1]:\n",
    "    FITS_skysub = output_dir + '/%s.skysub.fits' %(pa.basename(FITS_obj)[:-5])\n",
    "    SEx_SkySubtract.SSS(FITS_obj=FITS_obj, FITS_skysub=FITS_skysub, FITS_sky=None, FITS_skyrms=None, \\\n",
    "        SATUR_KEY='SATURATE', ESATUR_KEY='ESATUR', BACK_SIZE=64, BACK_FILTERSIZE=3, DETECT_THRESH=1.5, \\\n",
    "        DETECT_MINAREA=5, DETECT_MAXAREA=0, VERBOSE_LEVEL=2)\n"
   ]
  },
  {
   "cell_type": "markdown",
   "id": "4af4b208-21af-40e7-b04c-616a0bbdd049",
   "metadata": {},
   "source": [
    "### Preproc step3. align science image to the reference image frame using SWarp\n",
    "#### NOTE: To avoid negative artifacts, here we use BILINEAR interpolation function for resampling.\n",
    "#### NOTE: The downside is that the interpolation will enlarge the psf fwhm and will introduce a small flux bias (~1%).\n",
    "#### FIXME: Better image alignment methods may be available when the reference and science images are mosaic images."
   ]
  },
  {
   "cell_type": "code",
   "execution_count": 17,
   "id": "876d0d38-17d4-4c53-b331-8457a4c5eeb1",
   "metadata": {
    "collapsed": true,
    "jupyter": {
     "outputs_hidden": true
    },
    "tags": []
   },
   "outputs": [
    {
     "name": "stderr",
     "output_type": "stream",
     "text": [
      "\u001b[1M> \n",
      "\u001b[1A----- SWarp 2.38.0 started on 2023-12-24 at 00:35:35 with 40 threads\n",
      "\n",
      "\u001b[1M> Examining input data ...\n",
      "\u001b[1A\u001b[1M> Looking for Roman_WAS_simple_model_H158_11832_15.sciE.skysub.fits ...\n",
      "\u001b[1A\u001b[1M> Creating NEW output image ...\n",
      "\u001b[1A\n",
      "> WARNING: FITS header data read in /data1/LeiHu/TEMPFILES/PYSWarp_xj9yf9fu/Roman_WAS_simple_model_H158_11832_15.sciE.skysub.tmp_resamp.head\n",
      "\n",
      "\u001b[1M> Creating NEW weight-map ...\n",
      "\u001b[1A\u001b[1M> \n",
      "\u001b[1A------- Output File Roman_WAS_simple_model_H158_11832_15.sciE.skysub.tmp_resamp.fits:\n",
      "    \"no ident\"  WEIGHTED  EXT. HEADER  4088x4088  32 bits (floats)\n",
      "    Center: 00:37:11.93 -43:59:04.7   7.19'x7.19'  Scale: 0.1056 ''/pixel\n",
      "    Gain: 0 e-/ADU   Flux scaling (astrom/photom): 1 X / 1 X\n",
      "\n",
      "\u001b[1M> Loading input data ...\n",
      "\u001b[1A\u001b[1M> \n",
      "\u001b[1A-------------- File Roman_WAS_simple_model_H158_11832_15.sciE.skysub.fits:\n",
      "    \"no ident\"  unweighted  no ext. header  4088x4088  64 bits (floats)\n",
      "    Center: 00:37:03.50 -43:58:22.7   7.19'x7.19'  Scale: 0.1056 ''/pixel\n",
      "    Gain: 1 e-/ADU   Flux scaling (astrom/photom): 1 X / 1 X\n",
      "\u001b[1M> Setting up background maps ...\n",
      "\u001b[1A\u001b[1M> Setting up background map at line:    128 / 4088   \n",
      "\u001b[1A\u001b[1M> Setting up background map at line:    256 / 4088   \n",
      "\u001b[1A\u001b[1M> Setting up background map at line:    384 / 4088   \n",
      "\u001b[1A\u001b[1M> Setting up background map at line:    512 / 4088   \n",
      "\u001b[1A\u001b[1M> Setting up background map at line:    640 / 4088   \n",
      "\u001b[1A\u001b[1M> Setting up background map at line:    768 / 4088   \n",
      "\u001b[1A\u001b[1M> Setting up background map at line:    896 / 4088   \n",
      "\u001b[1A\u001b[1M> Setting up background map at line:   1024 / 4088   \n",
      "\u001b[1A\u001b[1M> Setting up background map at line:   1152 / 4088   \n",
      "\u001b[1A\u001b[1M> Setting up background map at line:   1280 / 4088   \n",
      "\u001b[1A\u001b[1M> Setting up background map at line:   1408 / 4088   \n",
      "\u001b[1A\u001b[1M> Setting up background map at line:   1536 / 4088   \n",
      "\u001b[1A\u001b[1M> Setting up background map at line:   1664 / 4088   \n",
      "\u001b[1A\u001b[1M> Setting up background map at line:   1792 / 4088   \n",
      "\u001b[1A\u001b[1M> Setting up background map at line:   1920 / 4088   \n",
      "\u001b[1A\u001b[1M> Setting up background map at line:   2048 / 4088   \n",
      "\u001b[1A\u001b[1M> Setting up background map at line:   2176 / 4088   \n",
      "\u001b[1A\u001b[1M> Setting up background map at line:   2304 / 4088   \n",
      "\u001b[1A\u001b[1M> Setting up background map at line:   2432 / 4088   \n",
      "\u001b[1A\u001b[1M> Setting up background map at line:   2560 / 4088   \n",
      "\u001b[1A\u001b[1M> Setting up background map at line:   2688 / 4088   \n",
      "\u001b[1A\u001b[1M> Setting up background map at line:   2816 / 4088   \n",
      "\u001b[1A\u001b[1M> Setting up background map at line:   2944 / 4088   \n",
      "\u001b[1A\u001b[1M> Setting up background map at line:   3072 / 4088   \n",
      "\u001b[1A\u001b[1M> Setting up background map at line:   3200 / 4088   \n",
      "\u001b[1A\u001b[1M> Setting up background map at line:   3328 / 4088   \n",
      "\u001b[1A\u001b[1M> Setting up background map at line:   3456 / 4088   \n",
      "\u001b[1A\u001b[1M> Setting up background map at line:   3584 / 4088   \n",
      "\u001b[1A\u001b[1M> Setting up background map at line:   3712 / 4088   \n",
      "\u001b[1A\u001b[1M> Setting up background map at line:   3840 / 4088   \n",
      "\u001b[1A\u001b[1M> Setting up background map at line:   3968 / 4088   \n",
      "\u001b[1A\u001b[1M> Filtering background map(s) ...\n",
      "\u001b[1A\u001b[1M> Computing backgound d-map ...\n",
      "\u001b[1A\u001b[1M> Computing backgound-noise d-map ...\n",
      "\u001b[1A    Background: 0.05442199   RMS: 12.27056\n",
      "\n",
      "\u001b[1M> Reading /run/mount/nas/Public/Thomas/RMSIM/ship2pitsn/output/Roman_WAS_simple_model_H158_11832_15.sciE.skysub.fits\n",
      "\u001b[1A\u001b[1M> Resampling /run/mount/nas/Public/Thomas/RMSIM/ship2pitsn/output/Roman_WAS_simple_model_H158_11832_15.sciE.skysub.fits ...\n",
      "\u001b[1A\u001b[1M> Resampling line:      0 / 3714   \n",
      "\u001b[1A\u001b[1M> Resampling line:    515 / 3714   \n",
      "\u001b[1A\u001b[1M> Resampling line:   1030 / 3714   \n",
      "\u001b[1A\u001b[1M> Resampling line:   1545 / 3714   \n",
      "\u001b[1A\u001b[1M> Resampling line:   2060 / 3714   \n",
      "\u001b[1A\u001b[1M> Resampling line:   2575 / 3714   \n",
      "\u001b[1A\u001b[1M> Resampling line:   3090 / 3714   \n",
      "\u001b[1A\u001b[1M> Resampling line:   3605 / 3714   \n",
      "\u001b[1A-------------- Co-adding frames            \n",
      "Maximum overlap density: 1 frame\n",
      "\u001b[1M> Preparing line:      1 / 4088   \n",
      "\u001b[1A\u001b[1M> Reading   line:      1 / 4088   \n",
      "\u001b[1A\u001b[1M> Co-adding line:      1 / 4088   \n",
      "\u001b[1A\u001b[1M> Writing   line:      1 / 4088   \n",
      "\u001b[1A\u001b[1M> Preparing line:   3855 / 4088   \n",
      "\u001b[1A\u001b[1M> Reading   line:   3855 / 4088   \n",
      "\u001b[1A\u001b[1M> Co-adding line:   3855 / 4088   \n",
      "\u001b[1A\u001b[1M> Writing   line:   3855 / 4088   \n",
      "\u001b[1A\u001b[1M> Closing files ...\n",
      "\u001b[1A\u001b[1M> \n",
      "\u001b[1A> All done (in 1.4 s)\n",
      "WARNING: VerifyWarning: Card is too long, comment will be truncated. [astropy.io.fits.card]\n"
     ]
    },
    {
     "data": {
      "text/plain": [
       "(array([[         nan,          nan,          nan, ..., -11.460112  ,\n",
       "           8.348806  ,   0.60704654],\n",
       "        [         nan,          nan,          nan, ...,   9.032528  ,\n",
       "          12.967183  ,  -4.517813  ],\n",
       "        [         nan,          nan,          nan, ...,  -4.5646214 ,\n",
       "         -10.405803  , -14.898971  ],\n",
       "        ...,\n",
       "        [         nan,          nan,          nan, ...,          nan,\n",
       "                  nan,          nan],\n",
       "        [         nan,          nan,          nan, ...,          nan,\n",
       "                  nan,          nan],\n",
       "        [         nan,          nan,          nan, ...,          nan,\n",
       "                  nan,          nan]], dtype=float32),\n",
       " array([[ True,  True,  True, ..., False, False, False],\n",
       "        [ True,  True,  True, ..., False, False, False],\n",
       "        [ True,  True,  True, ..., False, False, False],\n",
       "        ...,\n",
       "        [ True,  True,  True, ...,  True,  True,  True],\n",
       "        [ True,  True,  True, ...,  True,  True,  True],\n",
       "        [ True,  True,  True, ...,  True,  True,  True]]))"
      ]
     },
     "execution_count": 17,
     "metadata": {},
     "output_type": "execute_result"
    }
   ],
   "source": [
    "from sfft.utils.pyAstroMatic.PYSWarp import PY_SWarp\n",
    "\n",
    "FITS_REF2 = output_dir + '/%s.sciE.skysub.fits' %refname\n",
    "FITS_SCI2 = output_dir + '/%s.sciE.skysub.fits' %sciname\n",
    "FITS_SCI3 = FITS_SCI2[:-5] + '.resamp.fits'\n",
    "\n",
    "PY_SWarp.PS(FITS_obj=FITS_SCI2, FITS_ref=FITS_REF2, FITS_resamp=FITS_SCI3, \\\n",
    "    GAIN_KEY='GAIN', SATUR_KEY='SATURATE', OVERSAMPLING=1, RESAMPLING_TYPE='BILINEAR', \\\n",
    "    SUBTRACT_BACK='N', FILL_VALUE=np.nan, VERBOSE_TYPE='NORMAL', VERBOSE_LEVEL=1)\n"
   ]
  },
  {
   "cell_type": "markdown",
   "id": "85bc8cf3-929a-454c-82f4-828454caa3c5",
   "metadata": {
    "tags": []
   },
   "source": [
    "### Preproc step4. retrieve psf model using roman_imsim\n",
    "#### FIXME: please adjust PATH in was.yaml: [input: obseq_data: file_name: /your/path/Roman_WAS_obseq_11_1_23.fits]"
   ]
  },
  {
   "cell_type": "code",
   "execution_count": 9,
   "id": "a62ca41c-78a3-4d6b-a38f-550e802e431f",
   "metadata": {
    "tags": []
   },
   "outputs": [
    {
     "name": "stdout",
     "output_type": "stream",
     "text": [
      "Inferring visit and sca from image_name.\n"
     ]
    },
    {
     "name": "stderr",
     "output_type": "stream",
     "text": [
      "/home/thomas/miniconda3/envs/env4sfft/lib/python3.7/site-packages/erfa/core.py:155: ErfaWarning: ERFA function \"d2dtf\" yielded 1 of \"dubious year (Note 5)\"\n",
      "  ErfaWarning)\n"
     ]
    },
    {
     "name": "stdout",
     "output_type": "stream",
     "text": [
      "Inferring visit and sca from image_name.\n"
     ]
    }
   ],
   "source": [
    "import sys\n",
    "import math\n",
    "import galsim\n",
    "import os.path as pa\n",
    "from astropy.io import fits\n",
    "from roman_imsim.utils import roman_utils\n",
    "config_file = aux_dir + '/was.yaml'\n",
    "assert pa.exists(config_file)\n",
    "\n",
    "# retrieve psf model at reference image center\n",
    "util_ref = roman_utils(config_file=config_file, image_name='%s.fits' %refname)\n",
    "psf_image_ref = util_ref.getPSF_Image(501, x=2048.5, y=2048.5).array\n",
    "\n",
    "FITS_PSF_REF = output_dir + '/%s.centPSF.fits' %refname\n",
    "fits.HDUList([fits.PrimaryHDU(data=psf_image_ref, header=None)]).writeto(FITS_PSF_REF, overwrite=True)\n",
    "\n",
    "# retrieve psf model at (unresampled) science image center\n",
    "util_sci = roman_utils(config_file=config_file, image_name='%s.fits' %sciname)\n",
    "psf_image_sci = util_ref.getPSF_Image(501, x=2048.5, y=2048.5).array\n",
    "\n",
    "FITS_PSF_SCI = output_dir + '/%s.centPSF.fits' %sciname\n",
    "fits.HDUList([fits.PrimaryHDU(data=psf_image_sci, header=None)]).writeto(FITS_PSF_SCI, overwrite=True)\n"
   ]
  },
  {
   "cell_type": "markdown",
   "id": "ee06adac-6b99-4ce9-9edf-a89bd981d6ea",
   "metadata": {},
   "source": [
    "### Preproc step5. rotate science psf model accroding to the image alignment"
   ]
  },
  {
   "cell_type": "code",
   "execution_count": 17,
   "id": "398bf8ca-6245-47ec-85b9-9ec7e20c29b5",
   "metadata": {
    "collapsed": true,
    "jupyter": {
     "outputs_hidden": true
    },
    "tags": []
   },
   "outputs": [
    {
     "name": "stdout",
     "output_type": "stream",
     "text": [
      "MeLOn CheckPoint: NO IMAGE ZOOM!\n",
      "MeLOn CheckPoint: Modify WCS to adapt to the Rotated Frame.\n"
     ]
    },
    {
     "name": "stderr",
     "output_type": "stream",
     "text": [
      "\u001b[1M> \n",
      "\u001b[1A----- SWarp 2.38.0 started on 2023-12-24 at 01:03:38 with 40 threads\n",
      "\n",
      "\u001b[1M> Examining input data ...\n",
      "\u001b[1A\u001b[1M> Looking for original_image.fits ...\n",
      "\u001b[1A\u001b[1M> Creating NEW output image ...\n",
      "\u001b[1A\n",
      "> WARNING: FITS header data read in /data1/LeiHu/TEMPFILES/PYSWarp_7gwy0vkv/original_image.tmp_resamp.head\n",
      "\n",
      "\u001b[1M> Creating NEW weight-map ...\n",
      "\u001b[1A\u001b[1M> \n",
      "\u001b[1A------- Output File original_image.tmp_resamp.fits:\n",
      "    \"no ident\"  WEIGHTED  EXT. HEADER  501x501  32 bits (floats)\n",
      "    Center: 12:00:00.00 +00:00:00.0   8.35'x8.35'  Scale: 1 ''/pixel\n",
      "    Gain: 0 e-/ADU   Flux scaling (astrom/photom): 1 X / 1 X\n",
      "\n",
      "\u001b[1M> Loading input data ...\n",
      "\u001b[1A\u001b[1M> \n",
      "\u001b[1A-------------- File original_image.fits:\n",
      "    \"no ident\"  unweighted  no ext. header  501x501  32 bits (floats)\n",
      "    Center: 12:00:00.00 +00:00:00.0   8.35'x8.35'  Scale: 1 ''/pixel\n",
      "    Gain: 1 e-/ADU   Flux scaling (astrom/photom): 1 X / 1 X\n",
      "\u001b[1M> Setting up background maps ...\n",
      "\u001b[1A\u001b[1M> Filtering background map(s) ...\n",
      "\u001b[1A\u001b[1M> Computing backgound d-map ...\n",
      "\u001b[1A\u001b[1M> Computing backgound-noise d-map ...\n",
      "\u001b[1A    Background: 4.088268e-11   RMS: 7.381397e-10\n",
      "\n",
      "\u001b[1M> Reading /data1/LeiHu/TEMPFILES/tmp2az39wj5/original_image.fits\n",
      "\u001b[1A\u001b[1M> Resampling /data1/LeiHu/TEMPFILES/tmp2az39wj5/original_image.fits ...\n",
      "\u001b[1A\u001b[1M> Resampling line:      0 / 501    \n",
      "\u001b[1A-------------- Co-adding frames            \n",
      "Maximum overlap density: 1 frame\n",
      "\u001b[1M> Preparing line:      1 / 501    \n",
      "\u001b[1A\u001b[1M> Reading   line:      1 / 501    \n",
      "\u001b[1A\u001b[1M> Co-adding line:      1 / 501    \n",
      "\u001b[1A\u001b[1M> Writing   line:      1 / 501    \n",
      "\u001b[1A\u001b[1M> Closing files ...\n",
      "\u001b[1A\u001b[1M> \n",
      "\u001b[1A> All done (in 0.1 s)\n"
     ]
    }
   ],
   "source": [
    "import sys\n",
    "import numpy as np\n",
    "from sfft.utils.ReadWCS import Read_WCS\n",
    "sys.path.insert(1, utils_dir)\n",
    "from ImageZoomRotate import Image_ZoomRotate\n",
    "\n",
    "# Step 3p: rotate PSF model to align resampled image\n",
    "def calculate_skyN_vector(wcshdr, x_start, y_start, shift_dec=1.0):\n",
    "    w = Read_WCS.RW(wcshdr, VERBOSE_LEVEL=1)\n",
    "    ra_start, dec_start = w.all_pix2world(np.array([[x_start, y_start]]), 1)[0]\n",
    "    ra_end, dec_end = ra_start, dec_start + shift_dec/3600.0\n",
    "    x_end, y_end = w.all_world2pix(np.array([[ra_end, dec_end]]), 1)[0]\n",
    "    skyN_vector = np.array([x_end - x_start, y_end - y_start])\n",
    "    return skyN_vector\n",
    "\n",
    "def calculate_rotate_angle(vector_ref, vector_obj):\n",
    "    rad = np.arctan2(np.cross(vector_ref, vector_obj), np.dot(vector_ref, vector_obj))\n",
    "    rotate_angle = np.rad2deg(rad)\n",
    "    if rotate_angle < 0.0: rotate_angle += 360.0 \n",
    "    return rotate_angle\n",
    "\n",
    "# calculate rotation angle during resampling\n",
    "FITS_SCI2 = output_dir + '/%s.sciE.skysub.fits' %sciname\n",
    "FITS_SCI3 = FITS_SCI2[:-5] + '.resamp.fits'\n",
    "\n",
    "_phdr = fits.getheader(FITS_SCI2, ext=0)\n",
    "_w = Read_WCS.RW(_phdr, VERBOSE_LEVEL=1)\n",
    "x0, y0 = 0.5 + int(_phdr['NAXIS1'])/2.0, 0.5 + int(_phdr['NAXIS2'])/2.0\n",
    "ra0, dec0 = _w.all_pix2world(np.array([[x0, y0]]), 1)[0]\n",
    "skyN_vector = calculate_skyN_vector(wcshdr=_phdr, x_start=x0, y_start=y0)\n",
    "\n",
    "_phdr = fits.getheader(FITS_SCI3, ext=0)\n",
    "_w = Read_WCS.RW(_phdr, VERBOSE_LEVEL=1)\n",
    "x1, y1 = _w.all_world2pix(np.array([[ra0, dec0]]), 1)[0]\n",
    "skyN_vectorp = calculate_skyN_vector(wcshdr=_phdr, x_start=x1, y_start=y1)\n",
    "PATTERN_ROTATE_ANGLE = calculate_rotate_angle(vector_ref=skyN_vector, vector_obj=skyN_vectorp)\n",
    "\n",
    "# perform rotation to get rotated psf model for resampled science\n",
    "FITS_PSF_SCI = output_dir + '/%s.centPSF.fits' %sciname\n",
    "PixA_PSF_SCI = fits.getdata(FITS_PSF_SCI, ext=0).T\n",
    "PSF_PSF_ReSCI = Image_ZoomRotate.IZR(PixA_obj=PixA_PSF_SCI, ZOOM_SCALE_X=1., \\\n",
    "    ZOOM_SCALE_Y=1., PATTERN_ROTATE_ANGLE=PATTERN_ROTATE_ANGLE, \\\n",
    "    RESAMPLING_TYPE='BILINEAR', FILL_VALUE=0.0, VERBOSE_LEVEL=1)[0]\n",
    "\n",
    "FITS_PSF_ReSCI = output_dir + '/%s.resamp.centPSF.fits' %sciname\n",
    "fits.HDUList([fits.PrimaryHDU(data=PSF_PSF_ReSCI.T, header=None)]).writeto(FITS_PSF_ReSCI, overwrite=True)\n"
   ]
  },
  {
   "cell_type": "markdown",
   "id": "65878060-650d-4571-b92b-dfe9d9f0333f",
   "metadata": {},
   "source": [
    "### Preproc step6. perform cross convolution for coarsely psf aligment (ref * psf_sci and sci * psf_ref)"
   ]
  },
  {
   "cell_type": "code",
   "execution_count": 18,
   "id": "677affcc-5f5f-4aa9-a45a-149fd0de4c0b",
   "metadata": {
    "tags": []
   },
   "outputs": [
    {
     "name": "stdout",
     "output_type": "stream",
     "text": [
      "\n",
      "MeLOn CheckPoint: Convolving image ... \n",
      " # /run/mount/nas/Public/Thomas/RMSIM/ship2pitsn/output/Roman_WAS_simple_model_H158_9758_15.sciE.skysub.crossConvd.fits!\n",
      "\n",
      "MeLOn CheckPoint: Convolving image ... \n",
      " # /run/mount/nas/Public/Thomas/RMSIM/ship2pitsn/output/Roman_WAS_simple_model_H158_11832_15.sciE.skysub.resamp.crossConvd.fits!\n"
     ]
    }
   ],
   "source": [
    "from astropy.convolution import convolve_fft\n",
    "\n",
    "FITS_lREF = output_dir + '/%s.sciE.skysub.fits' %refname\n",
    "FITS_lSCI = output_dir + '/%s.sciE.skysub.resamp.fits' %sciname\n",
    "\n",
    "FITS_PSF_lREF = output_dir + '/%s.centPSF.fits' %refname\n",
    "FITS_PSF_lSCI = output_dir + '/%s.resamp.centPSF.fits' %sciname\n",
    "\n",
    "PixA_lREF = fits.getdata(FITS_lREF, ext=0).T\n",
    "PixA_lSCI = fits.getdata(FITS_lSCI, ext=0).T\n",
    "PixA_PSF_lREF = fits.getdata(FITS_PSF_lREF, ext=0).T\n",
    "PixA_PSF_lSCI = fits.getdata(FITS_PSF_lSCI, ext=0).T\n",
    "\n",
    "# convolve (resampled) science psf on reference\n",
    "PixA_lREF_convd = convolve_fft(PixA_lREF, PixA_PSF_lSCI, boundary='fill', \\\n",
    "    nan_treatment='fill', fill_value=0.0, normalize_kernel=True)\n",
    "FITS_lREF_convd = FITS_lREF[:-5] + '.crossConvd.fits'\n",
    "\n",
    "if FITS_lREF_convd is not None:\n",
    "    with fits.open(FITS_lREF) as hdl:\n",
    "        _message = 'Convolving image ... \\n # %s' %FITS_lREF_convd\n",
    "        print('\\nMeLOn CheckPoint: %s!' %_message)\n",
    "        hdl[0].data[:, :] = PixA_lREF_convd.T\n",
    "        hdl.writeto(FITS_lREF_convd, overwrite=True)\n",
    "    \n",
    "# convolve reference psf on (resampled) science\n",
    "PixA_lSCI_convd = convolve_fft(PixA_lSCI, PixA_PSF_lREF, boundary='fill', \\\n",
    "    nan_treatment='fill', fill_value=0.0, normalize_kernel=True)\n",
    "\n",
    "FITS_lSCI_convd = FITS_lSCI[:-5] + '.crossConvd.fits'\n",
    "if FITS_lSCI_convd is not None:\n",
    "    with fits.open(FITS_lSCI) as hdl:\n",
    "        _message = 'Convolving image ... \\n # %s' %FITS_lSCI_convd\n",
    "        print('\\nMeLOn CheckPoint: %s!' %_message)\n",
    "        hdl[0].data[:, :] = PixA_lSCI_convd.T\n",
    "        hdl.writeto(FITS_lSCI_convd, overwrite=True)\n"
   ]
  },
  {
   "cell_type": "markdown",
   "id": "b0d48375-c74e-402c-bdde-2d7b7895cb30",
   "metadata": {},
   "source": [
    "### Preproc step7. make a 1K cutout to perform sfft subtraction\n",
    "#### NOTE: the full frame subtraction is not optimized yet, let's test a cutout for now."
   ]
  },
  {
   "cell_type": "code",
   "execution_count": 19,
   "id": "85c84ae2-bbff-407b-9b83-d3c91a367638",
   "metadata": {
    "tags": []
   },
   "outputs": [],
   "source": [
    "from sfft.utils.StampGenerator import Stamp_Generator\n",
    "\n",
    "# Step temp: make a cutout for subtraction test\n",
    "FITS_lREF = output_dir + '/%s.sciE.skysub.fits' %refname\n",
    "FITS_lSCI = output_dir + '/%s.sciE.skysub.resamp.fits' %sciname\n",
    "\n",
    "FITS_REF = FITS_lREF[:-5] + '.crossConvd.fits'\n",
    "FITS_SCI = FITS_lSCI[:-5] + '.crossConvd.fits'\n",
    "\n",
    "STAMP_IMGSIZE = (1024, 1024) # stamp image size\n",
    "COORD = np.array([[1195.5299, 2972.6193]])  # image coordinate\n",
    "\n",
    "for FITS_obj in [FITS_lREF, FITS_lSCI, FITS_REF, FITS_SCI]:\n",
    "    FITS_StpLst = [FITS_obj[:-5] + '.stamp.fits']\n",
    "    Stamp_Generator.SG(FITS_obj=FITS_obj, COORD=COORD, COORD_TYPE='IMAGE', \\\n",
    "        STAMP_IMGSIZE=STAMP_IMGSIZE, FILL_VALUE=np.nan, FITS_StpLst=FITS_StpLst, VERBOSE_LEVEL=2)\n",
    "    "
   ]
  },
  {
   "cell_type": "markdown",
   "id": "9cb99422-4488-4f4a-bb01-a2fceea1e6ad",
   "metadata": {
    "tags": []
   },
   "source": [
    "### Preproc step7. create detection mask "
   ]
  },
  {
   "cell_type": "code",
   "execution_count": 22,
   "id": "8feaaadd-8410-4615-b655-13d20379f701",
   "metadata": {
    "collapsed": true,
    "jupyter": {
     "outputs_hidden": true
    },
    "tags": []
   },
   "outputs": [
    {
     "name": "stdout",
     "output_type": "stream",
     "text": [
      "\n",
      "MeLOn CheckPoint [Roman_WAS_simple_model_H158_9758_15.sciE.skysub.crossConvd.stamp.fits]: Run Python Wrapper of SExtractor!\n",
      "MeLOn CheckPoint [Roman_WAS_simple_model_H158_9758_15.sciE.skysub.crossConvd.stamp.fits]: SExtractor uses GAIN = [1.0] from keyword [GAIN]!\n",
      "MeLOn CheckPoint [Roman_WAS_simple_model_H158_9758_15.sciE.skysub.crossConvd.stamp.fits]: SExtractor uses SATURATION = [120000.0] from keyword [SATURATE]!\n",
      "MeLOn CheckPoint [Roman_WAS_simple_model_H158_9758_15.sciE.skysub.crossConvd.stamp.fits]: SExtractor found [450] sources!\n",
      "MeLOn CheckPoint [Roman_WAS_simple_model_H158_9758_15.sciE.skysub.crossConvd.stamp.fits]: PYSEx output catalog contains [450] sources!\n",
      "\n",
      "MeLOn CheckPoint [Roman_WAS_simple_model_H158_11832_15.sciE.skysub.resamp.crossConvd.stamp.fits]: Run Python Wrapper of SExtractor!\n",
      "MeLOn CheckPoint [Roman_WAS_simple_model_H158_11832_15.sciE.skysub.resamp.crossConvd.stamp.fits]: SExtractor uses GAIN = [1.0] from keyword [GAIN]!\n",
      "MeLOn CheckPoint [Roman_WAS_simple_model_H158_11832_15.sciE.skysub.resamp.crossConvd.stamp.fits]: SExtractor uses SATURATION = [119999.95028] from keyword [SATURATE]!\n",
      "MeLOn CheckPoint [Roman_WAS_simple_model_H158_11832_15.sciE.skysub.resamp.crossConvd.stamp.fits]: SExtractor found [748] sources!\n",
      "MeLOn CheckPoint [Roman_WAS_simple_model_H158_11832_15.sciE.skysub.resamp.crossConvd.stamp.fits]: PYSEx output catalog contains [748] sources!\n"
     ]
    }
   ],
   "source": [
    "import numpy as np\n",
    "from astropy.io import fits\n",
    "from sfft.utils.pyAstroMatic.PYSEx import PY_SEx\n",
    "\n",
    "# Step 5. Run SFFT Subtraction\n",
    "FITS_lREF = output_dir + '/%s.sciE.skysub.stamp.fits' %refname # use stamp\n",
    "FITS_lSCI = output_dir + '/%s.sciE.skysub.resamp.stamp.fits' %sciname # use stamp\n",
    "FITS_REF = output_dir + '/%s.sciE.skysub.crossConvd.stamp.fits'  %refname # use stamp\n",
    "FITS_SCI = output_dir + '/%s.sciE.skysub.resamp.crossConvd.stamp.fits'  %sciname # use stamp\n",
    "\n",
    "SExParam = ['X_IMAGE', 'Y_IMAGE', 'FLUX_AUTO', 'FLUXERR_AUTO', 'MAG_AUTO', 'MAGERR_AUTO', 'FLAGS', \\\n",
    "    'FLUX_RADIUS', 'FWHM_IMAGE', 'A_IMAGE', 'B_IMAGE', 'KRON_RADIUS', 'THETA_IMAGE', 'SNR_WIN']\n",
    "\n",
    "PixA_SEG_REF = PY_SEx.PS(FITS_obj=FITS_REF, SExParam=SExParam, GAIN_KEY='GAIN', SATUR_KEY='SATURATE', \\\n",
    "    BACK_TYPE='MANUAL', BACK_VALUE=0.0, BACK_SIZE=64, BACK_FILTERSIZE=3, DETECT_THRESH=1.5, \\\n",
    "    DETECT_MINAREA=5, DETECT_MAXAREA=0, DEBLEND_MINCONT=0.001, BACKPHOTO_TYPE='LOCAL', \\\n",
    "    CHECKIMAGE_TYPE='SEGMENTATION', AddRD=True, ONLY_FLAGS=None, XBoundary=0.0, YBoundary=0.0, \\\n",
    "    MDIR=None, VERBOSE_LEVEL=1)[1][0]\n",
    "\n",
    "PixA_SEG_SCI = PY_SEx.PS(FITS_obj=FITS_SCI, SExParam=SExParam, GAIN_KEY='GAIN', SATUR_KEY='SATURATE', \\\n",
    "    BACK_TYPE='MANUAL', BACK_VALUE=0.0, BACK_SIZE=64, BACK_FILTERSIZE=3, DETECT_THRESH=1.5, \\\n",
    "    DETECT_MINAREA=5, DETECT_MAXAREA=0, DEBLEND_MINCONT=0.001, BACKPHOTO_TYPE='LOCAL', \\\n",
    "    CHECKIMAGE_TYPE='SEGMENTATION', AddRD=True, ONLY_FLAGS=None, XBoundary=0.0, YBoundary=0.0, \\\n",
    "    MDIR=None, VERBOSE_LEVEL=1)[1][0]\n",
    "\n",
    "LYMASK_BKG = np.logical_and(PixA_SEG_REF == 0, PixA_SEG_SCI == 0)   # background-mask\n",
    "LYMASK_RDET = ~LYMASK_BKG  # detection-mask\n"
   ]
  },
  {
   "cell_type": "markdown",
   "id": "7e67a9e8-4f64-470f-818a-2dbe95cbc4a9",
   "metadata": {
    "tags": []
   },
   "source": [
    "### SFFT Subtraction (public Github version): run polynominal form SFFT\n",
    "#### NOTE: I found that B-spline form SFFT (https://arxiv.org/abs/2309.09143) can have slightly better subtraction performance on roman sim. \n",
    "#### NOTE: However, the B-spline SFFT code has not yet incorpated into the public software. It would be available in the next version of SFFT (https://github.com/thomasvrussell/sfft). "
   ]
  },
  {
   "cell_type": "code",
   "execution_count": 43,
   "id": "43c4e867-8d17-4057-9853-df248d4d591d",
   "metadata": {
    "collapsed": true,
    "jupyter": {
     "outputs_hidden": true
    },
    "tags": []
   },
   "outputs": [
    {
     "name": "stdout",
     "output_type": "stream",
     "text": [
      "MeLOn CheckPoint: TRIGGER Function Compilations of SFFT-SUBTRACTION!\n",
      "\n",
      " --//--//--//--//-- TRIGGER SFFT COMPILATION --//--//--//--//-- \n",
      "\n",
      " ---//--- KerPolyOrder 3 | BGPolyOrder 0 | KerHW [9] ---//--- \n",
      "\n",
      " --//--//--//--//-- EXIT SFFT COMPILATION --//--//--//--//-- \n",
      "\n",
      "MeLOn Report: Function Compilations of SFFT-SUBTRACTION TAKES [0.000 s]\n",
      "MeLOn CheckPoint: TRIGGER SFFT-SUBTRACTION!\n",
      "\n",
      "                                __    __    __    __\n",
      "                               /  \\  /  \\  /  \\  /  \\\n",
      "                              /    \\/    \\/    \\/    \\\n",
      "            █████████████████/  /██/  /██/  /██/  /█████████████████████████\n",
      "                            /  / \\   / \\   / \\   / \\  \\____\n",
      "                           /  /   \\_/   \\_/   \\_/   \\    o \\__,\n",
      "                          / _/                       \\_____/  `\n",
      "                          |/\n",
      "        \n",
      "                      █████████  ███████████ ███████████ ███████████        \n",
      "                     ███░░░░░███░░███░░░░░░█░░███░░░░░░█░█░░░███░░░█            \n",
      "                    ░███    ░░░  ░███   █ ░  ░███   █ ░ ░   ░███  ░ \n",
      "                    ░░█████████  ░███████    ░███████       ░███    \n",
      "                     ░░░░░░░░███ ░███░░░█    ░███░░░█       ░███    \n",
      "                     ███    ░███ ░███  ░     ░███  ░        ░███    \n",
      "                    ░░█████████  █████       █████          █████   \n",
      "                     ░░░░░░░░░  ░░░░░       ░░░░░          ░░░░░         \n",
      "        \n",
      "                    Saccadic Fast Fourier Transform (SFFT) algorithm\n",
      "                    sfft (v1.*) supported by @LeiHu\n",
      "        \n",
      "                    GitHub: https://github.com/thomasvrussell/sfft\n",
      "                    Related Paper: https://arxiv.org/abs/2109.09334\n",
      "                    \n",
      "            ████████████████████████████████████████████████████████████████\n",
      "            \n",
      "            \n",
      "\n",
      " --||--||--||--||-- TRIGGER SFFT SUBTRACTION --||--||--||--||-- \n",
      "\n",
      " ---||--- KerPolyOrder 3 | BGPolyOrder 0 | KerHW [9] ---||--- \n",
      "\n",
      "MeLOn CheckPoint: SFFT-SUBTRACTION Preliminary Steps takes [0.6954s]\n",
      "/////   a   ///// Read Input Images  (0.0045s)\n",
      "/////   b   ///// Spatial Polynomial (0.6803s)\n",
      "/////   c   ///// DFT-12             (0.0043s)\n",
      "\n",
      "MeLOn CheckPoint: SFFT-SUBTRACTION Establish & Solve Linear System takes [5.7114s]\n",
      "/////   d   ///// Establish OMG                       (1.0722s)\n",
      "/////   e   ///// Establish GAM                       (0.9921s)\n",
      "/////   f   ///// Establish PSI                       (0.9932s)\n",
      "/////   g   ///// Establish PHI                       (0.4147s)\n",
      "/////   h   ///// Establish THE & DEL                 (1.3843s)\n",
      "/////   i   ///// Solve Linear System                 (0.4325s)\n",
      "\n",
      " --||--||--||--||-- EXIT SFFT SUBTRACTION --||--||--||--||-- \n",
      "\n",
      " --||--||--||--||-- TRIGGER SFFT SUBTRACTION --||--||--||--||-- \n",
      "\n",
      " ---||--- KerPolyOrder 3 | BGPolyOrder 0 | KerHW [9] ---||--- \n",
      "\n",
      "MeLOn CheckPoint: SFFT-SUBTRACTION Preliminary Steps takes [0.0238s]\n",
      "/////   a   ///// Read Input Images  (0.0098s)\n",
      "/////   b   ///// Spatial Polynomial (0.0002s)\n",
      "/////   c   ///// DFT-12             (0.0033s)\n",
      "\n",
      "MeLOn CheckPoint: SFFT-SUBTRACTION Perform Subtraction takes [0.5673s]\n",
      "/////   j   ///// Calculate Kab         (0.0044s)\n",
      "/////   k   ///// Construct DIFF        (0.5628s)\n",
      "\n",
      " --||--||--||--||-- EXIT SFFT SUBTRACTION --||--||--||--||-- \n",
      "\n",
      "MeLOn Report: SFFT-SUBTRACTION TAKES [7.001 s]\n",
      "MeLOn CheckPoint: DeCorrelation Kernel with size [1003, 1003]\n",
      "MeLOn CheckPoint: Tail-Truncation Lost-Weight [0.0000 %] (Absolute Percentage Error) \n"
     ]
    }
   ],
   "source": [
    "import os\n",
    "import os.path as pa\n",
    "from tempfile import mkdtemp\n",
    "from sfft.CustomizedPacket import Customized_Packet\n",
    "from sfft.utils.SkyLevelEstimator import SkyLevel_Estimator\n",
    "from sfft.utils.SFFTSolutionReader import Realize_MatchingKernel\n",
    "from sfft.utils.DeCorrelationCalculator import DeCorrelation_Calculator\n",
    "\n",
    "FITS_PSF_lREF = output_dir + '/%s.centPSF.fits' %refname\n",
    "FITS_PSF_lSCI = output_dir + '/%s.resamp.centPSF.fits' %sciname\n",
    "\n",
    "FITS_lREF = output_dir + '/%s.sciE.skysub.stamp.fits' %refname # use stamp\n",
    "FITS_lSCI = output_dir + '/%s.sciE.skysub.resamp.stamp.fits' %sciname # use stamp\n",
    "\n",
    "FITS_REF = output_dir + '/%s.sciE.skysub.crossConvd.stamp.fits'  %refname # use stamp\n",
    "FITS_SCI = output_dir + '/%s.sciE.skysub.resamp.crossConvd.stamp.fits'  %sciname # use stamp\n",
    "\n",
    "FITS_DIFF = FITS_SCI[:-5] + '.polysfftdiff.fits'\n",
    "FITS_Solution = FITS_SCI[:-5] + '.polysfftsolution.fits'\n",
    "FITS_DCDIFF = FITS_SCI[:-5] + '.polysfftdiff.DeCorrelated.fits'\n",
    "\n",
    "# zero-out background to create masked image pair \n",
    "TDIR = mkdtemp(suffix=None, prefix='mask', dir=None)\n",
    "FITS_mREF = TDIR + '%s.masked.fits' %(pa.basename(FITS_REF)[:-5])\n",
    "FITS_mSCI = TDIR + '%s.masked.fits' %(pa.basename(FITS_SCI)[:-5])\n",
    "\n",
    "with fits.open(FITS_REF) as hdl:\n",
    "    _PixA = hdl[0].data.T\n",
    "    _PixA[LYMASK_BKG] = 0.0\n",
    "    hdl[0].data[:, :] = _PixA.T\n",
    "    hdl.writeto(FITS_mREF, overwrite=True)\n",
    "\n",
    "with fits.open(FITS_SCI) as hdl:\n",
    "    _PixA = hdl[0].data.T\n",
    "    _PixA[LYMASK_BKG] = 0.0\n",
    "    hdl[0].data[:, :] = _PixA.T\n",
    "    hdl.writeto(FITS_mSCI, overwrite=True)\n",
    "\n",
    "# configuration for sfft subtraction\n",
    "ForceConv = 'REF'       # convolve which side, 'SCI' or 'REF'\n",
    "GKerHW = 9\n",
    "KerPolyOrder = 3        # polynomial degree for matching kerenl spatial variation \n",
    "BGPolyOrder = 0         # polynomial degree for differential background variation, trivial here\n",
    "ConstPhotRatio = True   # constant flux scaling?\n",
    "\n",
    "BACKEND_4SUBTRACT = 'Cupy'      # FIXME: Please use 'Numpy' if no gpu device avaiable\n",
    "CUDA_DEVICE_4SUBTRACT = '0'     # gpu device index, only for Cupy backend\n",
    "NUM_CPU_THREADS_4SUBTRACT = 8   # number of cpu threads, only for Numpy backend\n",
    "\n",
    "# run polynomial form sfft subtraction \n",
    "Customized_Packet.CP(FITS_REF=FITS_REF, FITS_SCI=FITS_SCI, FITS_mREF=FITS_mREF, FITS_mSCI=FITS_mSCI, \\\n",
    "    ForceConv=ForceConv, GKerHW=GKerHW, FITS_DIFF=FITS_DIFF, FITS_Solution=FITS_Solution, \\\n",
    "    KerPolyOrder=KerPolyOrder, BGPolyOrder=BGPolyOrder, ConstPhotRatio=ConstPhotRatio, \\\n",
    "    BACKEND_4SUBTRACT=BACKEND_4SUBTRACT, CUDA_DEVICE_4SUBTRACT=CUDA_DEVICE_4SUBTRACT, \\\n",
    "    NUM_CPU_THREADS_4SUBTRACT=NUM_CPU_THREADS_4SUBTRACT)\n",
    "os.system('rm -rf %s' %TDIR)\n",
    "\n",
    "# run noise decorrelation for polynomial form sfft subtraction \n",
    "PixA_PSF_lREF = fits.getdata(FITS_PSF_lREF, ext=0).T\n",
    "PixA_PSF_lSCI = fits.getdata(FITS_PSF_lSCI, ext=0).T\n",
    "\n",
    "PixA_lREF = fits.getdata(FITS_lREF, ext=0).T # use stamp\n",
    "PixA_lSCI = fits.getdata(FITS_lSCI, ext=0).T # use stamp\n",
    "PixA_DIFF = fits.getdata(FITS_DIFF, ext=0).T \n",
    "\n",
    "bkgsig_REF = SkyLevel_Estimator.SLE(PixA_obj=PixA_lREF)[1]\n",
    "bkgsig_SCI = SkyLevel_Estimator.SLE(PixA_obj=PixA_lSCI)[1]\n",
    "\n",
    "N0, N1 = PixA_lSCI.shape\n",
    "XY_q = np.array([[N0/2.+0.5, N1/2.+0.5]])\n",
    "MKerStack = Realize_MatchingKernel(XY_q).FromFITS(FITS_Solution=FITS_Solution)\n",
    "MK_Fin = MKerStack[0]\n",
    "\n",
    "DCKer = DeCorrelation_Calculator.DCC(MK_JLst=[PixA_PSF_lREF], SkySig_JLst=[bkgsig_SCI], \\\n",
    "    MK_ILst=[PixA_PSF_lSCI], SkySig_ILst=[bkgsig_REF], MK_Fin=MK_Fin, \\\n",
    "    KERatio=2.0, VERBOSE_LEVEL=2)\n",
    "\n",
    "PixA_DCDIFF = convolve_fft(PixA_DIFF, DCKer, boundary='fill', \\\n",
    "    nan_treatment='fill', fill_value=0.0, normalize_kernel=True)\n",
    "\n",
    "with fits.open(FITS_DIFF) as hdl:\n",
    "    hdl[0].data[:, :] = PixA_DCDIFF.T\n",
    "    hdl.writeto(FITS_DCDIFF, overwrite=True)\n",
    "\n",
    "# roughly estimate the SNR map for the decorrelated difference image\n",
    "# WARNING: the noise propagation is highly simplified.\n",
    "\n",
    "GAIN = 1.0  \n",
    "PixA_varREF = np.clip(PixA_lREF/GAIN, a_min=0.0, a_max=None) + bkgsig_REF**2\n",
    "PixA_varSCI = np.clip(PixA_lSCI/GAIN, a_min=0.0, a_max=None) + bkgsig_SCI**2\n",
    "PixA_DIFF_Noise = np.sqrt(PixA_varREF + PixA_varSCI)\n",
    "\n",
    "FITS_DSNR = FITS_DIFF[:-5] + '.DeCorrelated.SNR.fits'\n",
    "PixA_DSNR = PixA_DCDIFF/PixA_DIFF_Noise\n",
    "with fits.open(FITS_DIFF) as hdl:\n",
    "    hdl[0].data[:, :] = PixA_DSNR.T\n",
    "    hdl.writeto(FITS_DSNR, overwrite=True)\n"
   ]
  },
  {
   "cell_type": "code",
   "execution_count": null,
   "id": "f24cfc67-493c-450c-8bf4-4b07f371ffa0",
   "metadata": {},
   "outputs": [],
   "source": []
  }
 ],
 "metadata": {
  "kernelspec": {
   "display_name": "Python [conda env:env4sfft]",
   "language": "python",
   "name": "conda-env-env4sfft-py"
  },
  "language_info": {
   "codemirror_mode": {
    "name": "ipython",
    "version": 3
   },
   "file_extension": ".py",
   "mimetype": "text/x-python",
   "name": "python",
   "nbconvert_exporter": "python",
   "pygments_lexer": "ipython3",
   "version": "3.7.11"
  }
 },
 "nbformat": 4,
 "nbformat_minor": 5
}
