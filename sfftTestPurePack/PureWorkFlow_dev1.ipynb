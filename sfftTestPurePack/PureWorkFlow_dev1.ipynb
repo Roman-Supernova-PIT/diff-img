{
 "cells": [
  {
   "cell_type": "code",
   "execution_count": 18,
   "id": "f136c499-588e-43be-95a5-3c56d312b176",
   "metadata": {
    "tags": []
   },
   "outputs": [],
   "source": [
    "import os\n",
    "import sys\n",
    "import math\n",
    "import nvtx\n",
    "import galsim\n",
    "import cupy as cp\n",
    "import numpy as np\n",
    "import os.path as pa\n",
    "from astropy.io import fits\n",
    "from tempfile import mkdtemp\n",
    "from sfft.utils.ReadWCS import Read_WCS\n",
    "from roman_imsim.utils import roman_utils\n",
    "from astropy.convolution import convolve_fft\n",
    "from sfft.CustomizedPacket import Customized_Packet\n",
    "from sfft.utils.StampGenerator import Stamp_Generator\n",
    "from sfft.utils.SkyLevelEstimator import SkyLevel_Estimator\n",
    "from sfft.utils.SFFTSolutionReader import Realize_MatchingKernel\n",
    "from sfft.utils.DeCorrelationCalculator import DeCorrelation_Calculator\n",
    "#GDIR = '/hack_team_01/leiworkflow/diff-img/sfftTestPurePack'\n",
    "GDIR = '/global/u1/l/leihu/JupyterLab/Hackathon/diff-img/sfftTestPurePack'\n",
    "\n",
    "utils_dir = GDIR + '/utils'\n",
    "sys.path.insert(1, utils_dir)\n",
    "from ImageZoomRotate import Image_ZoomRotate\n",
    "from CudaResampling import Cuda_Resampling\n",
    "\n",
    "aux_dir = GDIR + '/auxiliary'\n",
    "config_file = aux_dir + '/was.yaml'\n",
    "assert pa.exists(config_file)\n",
    "\n",
    "input_dir = GDIR + '/input'\n",
    "output_dir = GDIR + '/output'\n",
    "\n",
    "# setup reference & science filename\n",
    "refname = 'Roman_WAS_simple_model_H158_9758_15'\n",
    "sciname = 'Roman_WAS_simple_model_H158_11832_15'\n"
   ]
  },
  {
   "cell_type": "markdown",
   "id": "62de0155-cca5-4ee5-8382-6216e6a5e522",
   "metadata": {},
   "source": [
    "### Step 0a + 0b"
   ]
  },
  {
   "cell_type": "code",
   "execution_count": 19,
   "id": "0152330f-6dff-4cfd-94ec-1b624e860746",
   "metadata": {
    "tags": []
   },
   "outputs": [
    {
     "name": "stdout",
     "output_type": "stream",
     "text": [
      "MeLOn CheckPoint: Cuda resampling takes [0.000020 s]\n",
      "MeLOn CheckPoint: Cuda resampling takes [0.000020 s]\n"
     ]
    }
   ],
   "source": [
    "# *** step0a. prepare mapping for resampling [science image & detection mask onto reference frame]\n",
    "FITS_REF = input_dir + \"/%s.sciE.skysub.fits\" % refname\n",
    "FITS_oSCI = input_dir + \"/%s.sciE.skysub.fits\" % sciname\n",
    "\n",
    "FITS_REF_DMASK = input_dir + \"/%s.sciE.skysub.detmask.fits\" % refname\n",
    "FITS_oSCI_DMASK = input_dir + \"/%s.sciE.skysub.detmask.fits\" % sciname\n",
    "\n",
    "assert pa.exists(FITS_REF) and pa.exists(FITS_oSCI) \n",
    "assert pa.exists(FITS_REF_DMASK) and pa.exists(FITS_oSCI_DMASK)\n",
    "\n",
    "FITS_SCI = output_dir + \"/%s.sciE.skysub.resamp.fits\" % sciname\n",
    "FITS_SCI_DMASK = output_dir + \"/%s.sciE.skysub.detmask.resamp.fits\" % sciname\n",
    "\n",
    "# create the mapping for object to target \n",
    "CR1 = Cuda_Resampling(FITS_obj=FITS_oSCI, FITS_targ=FITS_REF, METHOD='BILINEAR', VERBOSE_LEVEL=1)\n",
    "CR2 = Cuda_Resampling(FITS_obj=FITS_oSCI_DMASK, FITS_targ=FITS_REF_DMASK, METHOD='BILINEAR', VERBOSE_LEVEL=1)\n",
    "\n",
    "# todo: the two mappings are same\n",
    "PixA_Eobj1, MappingDICT1 = CR1.mapping()\n",
    "PixA_Eobj2, MappingDICT2 = CR2.mapping()\n",
    "\n",
    "# *** step0b. resampling [science image & detection mask onto reference frame]\n",
    "PixA_resamp1 = CR1.resampling(PixA_Eobj=PixA_Eobj1, MappingDICT=MappingDICT1)\n",
    "PixA_resamp2 = CR2.resampling(PixA_Eobj=PixA_Eobj2, MappingDICT=MappingDICT2)\n",
    "\n",
    "BlankMask = PixA_resamp1 == 0.\n",
    "with fits.open(FITS_REF) as hdl:\n",
    "    # PixA_resamp1[PixA_resamp1 == 0.] = np.nan\n",
    "    hdl[0].data[:, :] = PixA_resamp1.T\n",
    "    hdl.writeto(FITS_SCI, overwrite=True)\n",
    "\n",
    "with fits.open(FITS_REF_DMASK) as hdl:\n",
    "    hdl[0].data[:, :] = PixA_resamp2.T\n",
    "    hdl.writeto(FITS_SCI_DMASK, overwrite=True)\n"
   ]
  },
  {
   "cell_type": "markdown",
   "id": "c636616b-4f77-41b7-bfec-1956922ebc0a",
   "metadata": {},
   "source": [
    "### Step 1a"
   ]
  },
  {
   "cell_type": "code",
   "execution_count": 20,
   "id": "2b6f552c-15d7-4a87-9e32-d1c7190ac986",
   "metadata": {
    "tags": []
   },
   "outputs": [
    {
     "name": "stdout",
     "output_type": "stream",
     "text": [
      "Inferring visit and sca from image_name.\n"
     ]
    },
    {
     "name": "stderr",
     "output_type": "stream",
     "text": [
      "/global/cfs/cdirs/m4237/lei/micromamba/envs/epy310/lib/python3.10/site-packages/erfa/core.py:133: ErfaWarning: ERFA function \"d2dtf\" yielded 1 of \"dubious year (Note 5)\"\n",
      "  warn(f'ERFA function \"{func_name}\" yielded {wmsg}', ErfaWarning)\n"
     ]
    },
    {
     "name": "stdout",
     "output_type": "stream",
     "text": [
      "Inferring visit and sca from image_name.\n",
      "6.314746618270874\n",
      "0.004404306411743164\n",
      "MeLOn CheckPoint: NO IMAGE ZOOM!\n",
      "MeLOn CheckPoint: Modify WCS to adapt to the Rotated Frame.\n",
      "MeLOn CheckPoint: Cuda resampling takes [0.000020 s]\n"
     ]
    }
   ],
   "source": [
    "# *** step1a. extract psf models\n",
    "# retrieve psf model at reference image center\n",
    "util_ref = roman_utils(config_file=config_file, image_name='%s.fits' %refname)\n",
    "psf_image_ref = util_ref.getPSF_Image(501, x=2048.5, y=2048.5).array\n",
    "\n",
    "FITS_PSF_REF = output_dir + '/%s.centPSF.fits' %refname\n",
    "fits.HDUList([fits.PrimaryHDU(data=psf_image_ref, header=None)]).writeto(FITS_PSF_REF, overwrite=True)\n",
    "\n",
    "# retrieve psf model at (unresampled) science image center\n",
    "util_sci = roman_utils(config_file=config_file, image_name='%s.fits' %sciname)\n",
    "psf_image_sci = util_ref.getPSF_Image(501, x=2048.5, y=2048.5).array\n",
    "\n",
    "FITS_PSF_SCI = output_dir + '/%s.centPSF.fits' %sciname\n",
    "fits.HDUList([fits.PrimaryHDU(data=psf_image_sci, header=None)]).writeto(FITS_PSF_SCI, overwrite=True)\n",
    "\n",
    "# rotate PSF model to align resampled image\n",
    "def calculate_skyN_vector(wcshdr, x_start, y_start, shift_dec=1.0):\n",
    "    w = Read_WCS.RW(wcshdr, VERBOSE_LEVEL=1)\n",
    "    ra_start, dec_start = w.all_pix2world(np.array([[x_start, y_start]]), 1)[0]\n",
    "    ra_end, dec_end = ra_start, dec_start + shift_dec/3600.0\n",
    "    x_end, y_end = w.all_world2pix(np.array([[ra_end, dec_end]]), 1)[0]\n",
    "    skyN_vector = np.array([x_end - x_start, y_end - y_start])\n",
    "    return skyN_vector\n",
    "\n",
    "def calculate_rotate_angle(vector_ref, vector_obj):\n",
    "    rad = np.arctan2(np.cross(vector_ref, vector_obj), np.dot(vector_ref, vector_obj))\n",
    "    rotate_angle = np.rad2deg(rad)\n",
    "    if rotate_angle < 0.0: rotate_angle += 360.0 \n",
    "    return rotate_angle\n",
    "\n",
    "# calculate rotation angle during resampling\n",
    "_phdr = fits.getheader(FITS_oSCI, ext=0)\n",
    "_w = Read_WCS.RW(_phdr, VERBOSE_LEVEL=1)\n",
    "x0, y0 = 0.5 + int(_phdr['NAXIS1'])/2.0, 0.5 + int(_phdr['NAXIS2'])/2.0\n",
    "ra0, dec0 = _w.all_pix2world(np.array([[x0, y0]]), 1)[0]\n",
    "skyN_vector = calculate_skyN_vector(wcshdr=_phdr, x_start=x0, y_start=y0)\n",
    "\n",
    "_phdr = fits.getheader(FITS_SCI, ext=0)\n",
    "_w = Read_WCS.RW(_phdr, VERBOSE_LEVEL=1)\n",
    "x1, y1 = _w.all_world2pix(np.array([[ra0, dec0]]), 1)[0]\n",
    "skyN_vectorp = calculate_skyN_vector(wcshdr=_phdr, x_start=x1, y_start=y1)\n",
    "PATTERN_ROTATE_ANGLE = calculate_rotate_angle(vector_ref=skyN_vector, vector_obj=skyN_vectorp)\n",
    "\n",
    "# perform rotation to get rotated psf model for resampled science\n",
    "FITS_PSF_SCI = output_dir + '/%s.centPSF.fits' %sciname\n",
    "PixA_PSF_SCI = fits.getdata(FITS_PSF_SCI, ext=0).T\n",
    "PSF_PSF_ReSCI = Image_ZoomRotate.IZR(PixA_obj=PixA_PSF_SCI, ZOOM_SCALE_X=1., \\\n",
    "    ZOOM_SCALE_Y=1., PATTERN_ROTATE_ANGLE=PATTERN_ROTATE_ANGLE, \\\n",
    "    RESAMPLING_TYPE='BILINEAR', FILL_VALUE=0.0, VERBOSE_LEVEL=1)[0]\n",
    "\n",
    "FITS_PSF_ReSCI = output_dir + '/%s.resamp.centPSF.fits' %sciname\n",
    "fits.HDUList([fits.PrimaryHDU(data=PSF_PSF_ReSCI.T, header=None)]).writeto(FITS_PSF_ReSCI, overwrite=True)\n"
   ]
  },
  {
   "cell_type": "markdown",
   "id": "51dfd058-56c0-4031-9dfe-8f17fe3932d7",
   "metadata": {
    "tags": []
   },
   "source": [
    "### Step 1b"
   ]
  },
  {
   "cell_type": "code",
   "execution_count": 21,
   "id": "c3ead835-3ee3-4f5f-8737-734a5e0a43c5",
   "metadata": {
    "tags": []
   },
   "outputs": [
    {
     "name": "stdout",
     "output_type": "stream",
     "text": [
      "\n",
      "MeLOn CheckPoint: Convolving image ... \n",
      " # /global/u1/l/leihu/JupyterLab/Hackathon/diff-img/sfftTestPurePack/output/Roman_WAS_simple_model_H158_9758_15.sciE.skysub.crossConvd.fits!\n",
      "\n",
      "MeLOn CheckPoint: Convolving image ... \n",
      " # /global/u1/l/leihu/JupyterLab/Hackathon/diff-img/sfftTestPurePack/output/Roman_WAS_simple_model_H158_11832_15.sciE.skysub.resamp.crossConvd.fits!\n"
     ]
    }
   ],
   "source": [
    "def convolve_fft_cuda(PixA_Inp_GPU, KERNEL_GPU, PAD_FILL_VALUE=0., NORMALIZE_KERNEL=False, FFT_BACKEND=\"cupy\"):\n",
    "    # Warning: make sure no NaN values in PixA_Inp_GPU.\n",
    "    \n",
    "    N0, N1 = PixA_Inp_GPU.shape\n",
    "    L0, L1 = KERNEL_GPU.shape\n",
    "    assert L0 % 2 == 1 and L1 % 2 == 1\n",
    "\n",
    "    W0, W1 = (L0 - 1)//2, (L1 - 1)//2 \n",
    "    EN0, EN1 = N0 + 2*W0, N1 + 2*W1\n",
    "\n",
    "    # zero padding on input image\n",
    "    PixA_EInp_GPU = cp.pad(\n",
    "        array=PixA_Inp_GPU, \n",
    "        pad_width=((W0, W0), (W1, W1)), \n",
    "        mode='constant', \n",
    "        constant_values=PAD_FILL_VALUE\n",
    "    )\n",
    "    \n",
    "    # tail zero padding & cicular shift the kernel\n",
    "    if NORMALIZE_KERNEL:\n",
    "        KERNEL_TZP_GPU = cp.pad(KERNEL_GPU / cp.sum(KERNEL_GPU), \\\n",
    "            pad_width=((0, EN0 - L0), (0, EN1 - L1)), mode='constant', constant_values=0.)\n",
    "    else:\n",
    "        KERNEL_TZP_GPU = cp.pad(KERNEL_GPU, pad_width=((0, EN0 - L0), (0, EN1 - L1)), \\\n",
    "            mode='constant', constant_values=0.)\n",
    "    KIMG_CSZ_GPU = cp.roll(cp.roll(KERNEL_TZP_GPU, -W0, axis=0), -W1, axis=1)\n",
    "    \n",
    "    # perform convolution in Fourier domain\n",
    "    if FFT_BACKEND == \"cupy\":\n",
    "        PixA_Out_GPU = cp.fft.ifft2(\n",
    "            cp.fft.fft2(PixA_EInp_GPU) * cp.fft.fft2(KIMG_CSZ_GPU)\n",
    "        ).real[W0: -W0, W1: -W1]\n",
    "    \n",
    "    # NOT fully tested yet\n",
    "    # if FFT_BACKEND == \"nvmath\":\n",
    "    #     PixA_Out_GPU = nvmath.fft.irfft(\n",
    "    #         nvmath.fft.rfft(PixA_EInp_GPU) * nvmath.fft.rfft(KIMG_CSZ_GPU)\n",
    "    #     )[W0: -W0, W1: -W1]\n",
    "    \n",
    "    return PixA_Out_GPU\n",
    "\n",
    "# *** step1b. cross convolution\n",
    "FITS_lREF = input_dir + '/%s.sciE.skysub.fits' % refname\n",
    "FITS_lSCI = output_dir + '/%s.sciE.skysub.resamp.fits' % sciname\n",
    "\n",
    "FITS_PSF_lREF = output_dir + '/%s.centPSF.fits' % refname\n",
    "FITS_PSF_lSCI = output_dir + '/%s.resamp.centPSF.fits' % sciname\n",
    "\n",
    "FITS_lREF_convd = output_dir + '/%s.sciE.skysub.crossConvd.fits' % refname\n",
    "FITS_lSCI_convd = output_dir + '/%s.sciE.skysub.resamp.crossConvd.fits' % sciname\n",
    "\n",
    "PixA_lREF = fits.getdata(FITS_lREF, ext=0).T\n",
    "PixA_lSCI = fits.getdata(FITS_lSCI, ext=0).T\n",
    "\n",
    "PixA_PSF_lREF = fits.getdata(FITS_PSF_lREF, ext=0).T\n",
    "PixA_PSF_lSCI = fits.getdata(FITS_PSF_lSCI, ext=0).T\n",
    "\n",
    "# convolve (resampled) science psf on reference\n",
    "PixA_lREF_convd = cp.asnumpy(convolve_fft_cuda(\n",
    "    PixA_Inp_GPU=cp.array(PixA_lREF, dtype=cp.float64), \n",
    "    KERNEL_GPU=cp.array(PixA_PSF_lSCI, dtype=cp.float64),\n",
    "    PAD_FILL_VALUE=0., NORMALIZE_KERNEL=True, FFT_BACKEND=\"cupy\"))\n",
    "\n",
    "if FITS_lREF_convd is not None:\n",
    "    with fits.open(FITS_lREF) as hdl:\n",
    "        _message = 'Convolving image ... \\n # %s' %FITS_lREF_convd\n",
    "        print('\\nMeLOn CheckPoint: %s!' %_message)\n",
    "        hdl[0].data[:, :] = PixA_lREF_convd.T\n",
    "        hdl.writeto(FITS_lREF_convd, overwrite=True)\n",
    "\n",
    "# convolve reference psf on (resampled) science\n",
    "PixA_lSCI_convd = cp.asnumpy(convolve_fft_cuda(\n",
    "    PixA_Inp_GPU=cp.array(PixA_lSCI, dtype=cp.float64), \n",
    "    KERNEL_GPU=cp.array(PixA_PSF_lREF, dtype=cp.float64),\n",
    "    PAD_FILL_VALUE=0., NORMALIZE_KERNEL=True, FFT_BACKEND=\"cupy\"))\n",
    "\n",
    "if FITS_lSCI_convd is not None:\n",
    "    with fits.open(FITS_lSCI) as hdl:\n",
    "        _message = 'Convolving image ... \\n # %s' %FITS_lSCI_convd\n",
    "        print('\\nMeLOn CheckPoint: %s!' %_message)\n",
    "        hdl[0].data[:, :] = PixA_lSCI_convd.T\n",
    "        hdl.writeto(FITS_lSCI_convd, overwrite=True)\n"
   ]
  },
  {
   "cell_type": "markdown",
   "id": "0c9fd820-bd01-42f9-bfe3-5adaaed972a4",
   "metadata": {},
   "source": [
    "### Step 2"
   ]
  },
  {
   "cell_type": "code",
   "execution_count": 24,
   "id": "1bface4d-1491-4598-8a39-9a897cc1f452",
   "metadata": {
    "tags": []
   },
   "outputs": [
    {
     "name": "stdout",
     "output_type": "stream",
     "text": [
      "MeLOn CheckPoint: TRIGGER Function Compilations of SFFT-SUBTRACTION!\n",
      "\n",
      " --//--//--//--//-- TRIGGER SFFT COMPILATION --//--//--//--//-- \n",
      "\n",
      " ---//--- KerPolyOrder 2 | BGPolyOrder 0 | KerHW [9] ---//--- \n",
      "\n",
      " --//--//--//--//-- EXIT SFFT COMPILATION --//--//--//--//-- \n",
      "\n",
      "MeLOn Report: Function Compilations of SFFT-SUBTRACTION TAKES [0.000 s]\n",
      "MeLOn CheckPoint: TRIGGER SFFT-SUBTRACTION!\n",
      "\n",
      "                                __    __    __    __\n",
      "                               /  \\  /  \\  /  \\  /  \\\n",
      "                              /    \\/    \\/    \\/    \\\n",
      "            █████████████████/  /██/  /██/  /██/  /█████████████████████████\n",
      "                            /  / \\   / \\   / \\   / \\  \\____\n",
      "                           /  /   \\_/   \\_/   \\_/   \\    o \\__,\n",
      "                          / _/                       \\_____/  `\n",
      "                          |/\n",
      "        \n",
      "                      █████████  ███████████ ███████████ ███████████        \n",
      "                     ███░░░░░███░░███░░░░░░█░░███░░░░░░█░█░░░███░░░█            \n",
      "                    ░███    ░░░  ░███   █ ░  ░███   █ ░ ░   ░███  ░ \n",
      "                    ░░█████████  ░███████    ░███████       ░███    \n",
      "                     ░░░░░░░░███ ░███░░░█    ░███░░░█       ░███    \n",
      "                     ███    ░███ ░███  ░     ░███  ░        ░███    \n",
      "                    ░░█████████  █████       █████          █████   \n",
      "                     ░░░░░░░░░  ░░░░░       ░░░░░          ░░░░░         \n",
      "        \n",
      "                    Saccadic Fast Fourier Transform (SFFT) algorithm\n",
      "                    sfft (v1.*) supported by @LeiHu\n",
      "        \n",
      "                    GitHub: https://github.com/thomasvrussell/sfft\n",
      "                    Related Paper: https://arxiv.org/abs/2109.09334\n",
      "                    \n",
      "            ████████████████████████████████████████████████████████████████\n",
      "            \n",
      "            \n",
      "\n",
      " --||--||--||--||-- TRIGGER SFFT SUBTRACTION --||--||--||--||-- \n",
      "\n",
      " ---||--- KerPolyOrder 2 | BGPolyOrder 0 | KerHW [9] ---||--- \n",
      "\n",
      "MeLOn CheckPoint: SFFT-SUBTRACTION Preliminary Steps takes [0.0477s]\n",
      "/////   a   ///// Read Input Images  (0.0451s)\n",
      "/////   b   ///// Spatial Polynomial (0.0002s)\n",
      "/////   c   ///// DFT-8             (0.0011s)\n",
      "\n",
      "MeLOn CheckPoint: SFFT-SUBTRACTION Establish & Solve Linear System takes [0.3602s]\n",
      "/////   d   ///// Establish OMG                       (0.0027s)\n",
      "/////   e   ///// Establish GAM                       (0.0006s)\n",
      "/////   f   ///// Establish PSI                       (0.0006s)\n",
      "/////   g   ///// Establish PHI                       (0.0002s)\n",
      "/////   h   ///// Establish THE & DEL                 (0.0008s)\n",
      "/////   i   ///// Solve Linear System                 (0.3552s)\n",
      "\n",
      " --||--||--||--||-- EXIT SFFT SUBTRACTION --||--||--||--||-- \n",
      "\n",
      " --||--||--||--||-- TRIGGER SFFT SUBTRACTION --||--||--||--||-- \n",
      "\n",
      " ---||--- KerPolyOrder 2 | BGPolyOrder 0 | KerHW [9] ---||--- \n",
      "\n",
      "MeLOn CheckPoint: SFFT-SUBTRACTION Preliminary Steps takes [0.0455s]\n",
      "/////   a   ///// Read Input Images  (0.0430s)\n",
      "/////   b   ///// Spatial Polynomial (0.0001s)\n",
      "/////   c   ///// DFT-8             (0.0011s)\n",
      "\n",
      "MeLOn CheckPoint: SFFT-SUBTRACTION Perform Subtraction takes [0.2625s]\n",
      "/////   j   ///// Calculate Kab         (0.0017s)\n",
      "/////   k   ///// Construct DIFF        (0.2608s)\n",
      "\n",
      " --||--||--||--||-- EXIT SFFT SUBTRACTION --||--||--||--||-- \n",
      "\n",
      "MeLOn Report: SFFT-SUBTRACTION TAKES [0.716 s]\n"
     ]
    },
    {
     "data": {
      "text/plain": [
       "0"
      ]
     },
     "execution_count": 24,
     "metadata": {},
     "output_type": "execute_result"
    }
   ],
   "source": [
    "# *** step2. image subtraction using sfft\n",
    "FITS_lR = input_dir + '/%s.sciE.skysub.fits' % refname                    # use full\n",
    "FITS_lS = output_dir + '/%s.sciE.skysub.resamp.fits' % sciname            # use full\n",
    "\n",
    "FITS_dR = input_dir + '/%s.sciE.skysub.detmask.fits'  %refname            # use full\n",
    "FITS_dS = output_dir + '/%s.sciE.skysub.detmask.resamp.fits'  %sciname    # use full\n",
    "\n",
    "FITS_R = output_dir + '/%s.sciE.skysub.crossConvd.fits'  %refname         # use full\n",
    "FITS_S = output_dir + '/%s.sciE.skysub.resamp.crossConvd.fits'  %sciname  # use full\n",
    "\n",
    "PixA_dR = fits.getdata(FITS_dR, ext=0).T\n",
    "PixA_dS = fits.getdata(FITS_dS, ext=0).T\n",
    "\n",
    "LYMASK_BKG = np.logical_or(PixA_dR == 0, PixA_dS < 0.1)   # background-mask\n",
    "LYMASK_RDET = ~LYMASK_BKG\n",
    "\n",
    "FITS_DIFF = FITS_S[:-5] + '.polysfftdiff.fits'\n",
    "FITS_Solution = FITS_S[:-5] + '.polysfftsolution.fits'\n",
    "FITS_DCDIFF = FITS_S[:-5] + '.polysfftdiff.DeCorrelated.fits'\n",
    "\n",
    "# zero-out background to create masked image pair \n",
    "TDIR = mkdtemp(suffix=None, prefix='mask', dir=None)\n",
    "FITS_mREF = TDIR + '%s.masked.fits' %(pa.basename(FITS_R)[:-5])\n",
    "FITS_mSCI = TDIR + '%s.masked.fits' %(pa.basename(FITS_S)[:-5])\n",
    "\n",
    "with fits.open(FITS_R) as hdl:\n",
    "    _PixA = hdl[0].data.T\n",
    "    _PixA[np.isnan(_PixA)] = 0.\n",
    "    _PixA[LYMASK_BKG] = 0.0\n",
    "    hdl[0].data[:, :] = _PixA.T\n",
    "    hdl.writeto(FITS_mREF, overwrite=True)\n",
    "\n",
    "with fits.open(FITS_S) as hdl:\n",
    "    _PixA = hdl[0].data.T\n",
    "    _PixA[np.isnan(_PixA)] = 0.\n",
    "    _PixA[LYMASK_BKG] = 0.0\n",
    "    hdl[0].data[:, :] = _PixA.T\n",
    "    hdl.writeto(FITS_mSCI, overwrite=True)\n",
    "\n",
    "# configuration for sfft subtraction\n",
    "ForceConv = 'REF'       # convolve which side, 'SCI' or 'REF'\n",
    "GKerHW = 9\n",
    "KerPolyOrder = 2        # polynomial degree for matching kerenl spatial variation \n",
    "BGPolyOrder = 0         # polynomial degree for differential background variation, trivial here\n",
    "ConstPhotRatio = True   # constant flux scaling?\n",
    "\n",
    "BACKEND_4SUBTRACT = 'Cupy'      # FIXME: Please use 'Numpy' if no gpu device avaiable\n",
    "CUDA_DEVICE_4SUBTRACT = '1'     # gpu device index, only for Cupy backend  # todo...\n",
    "NUM_CPU_THREADS_4SUBTRACT = 8   # number of cpu threads, only for Numpy backend\n",
    "\n",
    "# run polynomial form sfft subtraction \n",
    "Customized_Packet.CP(FITS_REF=FITS_R, FITS_SCI=FITS_S, FITS_mREF=FITS_mREF, FITS_mSCI=FITS_mSCI, \\\n",
    "    ForceConv=ForceConv, GKerHW=GKerHW, FITS_DIFF=FITS_DIFF, FITS_Solution=FITS_Solution, \\\n",
    "    KerPolyOrder=KerPolyOrder, BGPolyOrder=BGPolyOrder, ConstPhotRatio=ConstPhotRatio, \\\n",
    "    BACKEND_4SUBTRACT=BACKEND_4SUBTRACT, CUDA_DEVICE_4SUBTRACT=CUDA_DEVICE_4SUBTRACT, \\\n",
    "    NUM_CPU_THREADS_4SUBTRACT=NUM_CPU_THREADS_4SUBTRACT)\n",
    "\n",
    "with fits.open(FITS_DIFF) as hdl:\n",
    "    PixA_DIFF = hdl[0].data.T\n",
    "    PixA_DIFF[BlankMask] = 0.\n",
    "    hdl[0].data[:, :] = PixA_DIFF.T\n",
    "    hdl.writeto(FITS_DIFF, overwrite=True)\n",
    "\n",
    "os.system('rm -rf %s' %TDIR)\n"
   ]
  },
  {
   "cell_type": "markdown",
   "id": "beda7d51-c459-416d-a71d-2508de9891ce",
   "metadata": {},
   "source": [
    "### Step 3"
   ]
  },
  {
   "cell_type": "code",
   "execution_count": 35,
   "id": "7a652a36-24a2-46fb-aa98-78f922a45ba7",
   "metadata": {},
   "outputs": [
    {
     "name": "stdout",
     "output_type": "stream",
     "text": [
      "MeLOn CheckPoint: DeCorrelation Kernel with size [1003, 1003]\n",
      "MeLOn CheckPoint: Tail-Truncation Lost-Weight [0.0000 %] (Absolute Percentage Error) \n"
     ]
    }
   ],
   "source": [
    "# *** step3. noise decorrelation & SNR estimation \n",
    "# run noise decorrelation for polynomial form sfft subtraction \n",
    "PixA_PSF_lREF = fits.getdata(FITS_PSF_lREF, ext=0).T\n",
    "PixA_PSF_lSCI = fits.getdata(FITS_PSF_lSCI, ext=0).T\n",
    "\n",
    "PixA_lR = fits.getdata(FITS_lR, ext=0).T # use stamp\n",
    "PixA_lS = fits.getdata(FITS_lS, ext=0).T # use stamp\n",
    "PixA_DIFF = fits.getdata(FITS_DIFF, ext=0).T \n",
    "\n",
    "bkgsig_REF = SkyLevel_Estimator.SLE(PixA_obj=PixA_lR)[1]\n",
    "bkgsig_SCI = SkyLevel_Estimator.SLE(PixA_obj=PixA_lS)[1]\n",
    "\n",
    "N0, N1 = PixA_lS.shape\n",
    "XY_q = np.array([[N0/2.+0.5, N1/2.+0.5]])\n",
    "MKerStack = Realize_MatchingKernel(XY_q).FromFITS(FITS_Solution=FITS_Solution)\n",
    "MK_Fin = MKerStack[0]\n",
    "\n",
    "DCKer = DeCorrelation_Calculator.DCC(MK_JLst=[PixA_PSF_lREF], SkySig_JLst=[bkgsig_SCI], \\\n",
    "    MK_ILst=[PixA_PSF_lSCI], SkySig_ILst=[bkgsig_REF], MK_Fin=MK_Fin, \\\n",
    "    KERatio=2.0, VERBOSE_LEVEL=2)\n",
    "\n",
    "PixA_DCDIFF = cp.asnumpy(convolve_fft_cuda(\n",
    "    PixA_Inp_GPU=cp.array(PixA_DIFF, dtype=cp.float64), \n",
    "    KERNEL_GPU=cp.array(DCKer, dtype=cp.float64),\n",
    "    PAD_FILL_VALUE=0., NORMALIZE_KERNEL=True, FFT_BACKEND=\"cupy\"))\n",
    "\n",
    "with fits.open(FITS_DIFF) as hdl:\n",
    "    hdl[0].data[:, :] = PixA_DCDIFF.T\n",
    "    hdl.writeto(FITS_DCDIFF, overwrite=True)\n"
   ]
  },
  {
   "cell_type": "markdown",
   "id": "3f45798a-4367-4d83-afdf-2bb83ae1ee0c",
   "metadata": {},
   "source": [
    "### Step 4"
   ]
  },
  {
   "cell_type": "code",
   "execution_count": 36,
   "id": "29a13639-6f08-4516-b4c9-a81dc7ad70a3",
   "metadata": {},
   "outputs": [],
   "source": [
    "# *** step4. noise decorrelation & SNR estimation \n",
    "# roughly estimate the SNR map for the decorrelated difference image\n",
    "# WARNING: the noise propagation is highly simplified.\n",
    "\n",
    "GAIN = 1.0  \n",
    "PixA_varREF = np.clip(PixA_lR/GAIN, a_min=0.0, a_max=None) + bkgsig_REF**2\n",
    "PixA_varSCI = np.clip(PixA_lS/GAIN, a_min=0.0, a_max=None) + bkgsig_SCI**2\n",
    "PixA_DIFF_Noise = np.sqrt(PixA_varREF + PixA_varSCI)\n",
    "\n",
    "FITS_DSNR = FITS_DIFF[:-5] + '.DeCorrelated.SNR.fits'\n",
    "PixA_DSNR = PixA_DCDIFF / PixA_DIFF_Noise\n",
    "with fits.open(FITS_DIFF) as hdl:\n",
    "    hdl[0].data[:, :] = PixA_DSNR.T\n",
    "    hdl.writeto(FITS_DSNR, overwrite=True)\n"
   ]
  },
  {
   "cell_type": "code",
   "execution_count": null,
   "id": "f2d883dd-3cb5-4117-b9c7-aa2911cf5e1c",
   "metadata": {},
   "outputs": [],
   "source": [
    "\n",
    "\n",
    "\n",
    "\n"
   ]
  },
  {
   "cell_type": "markdown",
   "id": "6ec08f03-6df8-43f3-ae4e-674fcde4f941",
   "metadata": {},
   "source": [
    "# END"
   ]
  },
  {
   "cell_type": "code",
   "execution_count": null,
   "id": "06ec5846-b586-4870-8ef3-99a2cef79db8",
   "metadata": {},
   "outputs": [],
   "source": []
  },
  {
   "cell_type": "code",
   "execution_count": null,
   "id": "7f614e97-20bc-4c08-b46e-68ea2c12d801",
   "metadata": {},
   "outputs": [],
   "source": []
  },
  {
   "cell_type": "code",
   "execution_count": null,
   "id": "1a37cef0-3ae8-4a4e-8930-3b4d57508b4c",
   "metadata": {},
   "outputs": [],
   "source": []
  },
  {
   "cell_type": "code",
   "execution_count": null,
   "id": "ed1fe5bd-2a91-4a76-ba97-cf4229f29a6b",
   "metadata": {},
   "outputs": [],
   "source": []
  },
  {
   "cell_type": "code",
   "execution_count": null,
   "id": "28d123ca-9488-4e28-bfc2-2c62e0a8b99c",
   "metadata": {},
   "outputs": [],
   "source": []
  },
  {
   "cell_type": "code",
   "execution_count": null,
   "id": "2a5f885c-7fb1-47d5-b260-eb9f48a8a154",
   "metadata": {},
   "outputs": [],
   "source": []
  },
  {
   "cell_type": "code",
   "execution_count": null,
   "id": "af252dc4-cddb-4b28-86ca-dcd731e04eb0",
   "metadata": {},
   "outputs": [],
   "source": []
  }
 ],
 "metadata": {
  "kernelspec": {
   "display_name": "EPy310",
   "language": "python",
   "name": "epy310"
  },
  "language_info": {
   "codemirror_mode": {
    "name": "ipython",
    "version": 3
   },
   "file_extension": ".py",
   "mimetype": "text/x-python",
   "name": "python",
   "nbconvert_exporter": "python",
   "pygments_lexer": "ipython3",
   "version": "3.10.4"
  }
 },
 "nbformat": 4,
 "nbformat_minor": 5
}
