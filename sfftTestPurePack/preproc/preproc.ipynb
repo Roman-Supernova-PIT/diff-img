{
 "cells": [
  {
   "cell_type": "code",
   "execution_count": 7,
   "metadata": {},
   "outputs": [],
   "source": [
    "import os\n",
    "import re\n",
    "import numpy as np\n",
    "import os.path as pa\n",
    "from astropy.io import fits\n",
    "from sfft.utils.pyAstroMatic.PYSEx import PY_SEx\n",
    "from sfft.utils.SExSkySubtract import SEx_SkySubtract\n",
    "MAINDIR = \"/hildafs/projects/phy220048p/leihu/AstroWork/DECamDIA/notebooks/snpit/sfftTestPurePack\"   # FIXME\n",
    "\n",
    "# setup reference & science filename\n",
    "refname = 'Roman_WAS_simple_model_H158_9758_15'\n",
    "sciname = 'Roman_WAS_simple_model_H158_11832_15'\n"
   ]
  },
  {
   "cell_type": "code",
   "execution_count": 8,
   "metadata": {},
   "outputs": [
    {
     "name": "stdout",
     "output_type": "stream",
     "text": [
      "\n",
      "MeLOn CheckPoint [Roman_WAS_simple_model_H158_9758_15.sciE.fits]: Run Python Wrapper of SExtractor!\n",
      "MeLOn CheckPoint [Roman_WAS_simple_model_H158_9758_15.sciE.fits]: SExtractor uses SATURATION = [120000.0] from keyword [SATURATE]!\n",
      "MeLOn CheckPoint [Roman_WAS_simple_model_H158_9758_15.sciE.fits]: SExtractor found [5596] sources!\n",
      "MeLOn CheckPoint [Roman_WAS_simple_model_H158_9758_15.sciE.fits]: PYSEx output catalog contains [5596] sources!\n",
      "\n",
      "MeLOn CheckPoint [Roman_WAS_simple_model_H158_11832_15.sciE.fits]: Run Python Wrapper of SExtractor!\n",
      "MeLOn CheckPoint [Roman_WAS_simple_model_H158_11832_15.sciE.fits]: SExtractor uses SATURATION = [120000.0] from keyword [SATURATE]!\n",
      "MeLOn CheckPoint [Roman_WAS_simple_model_H158_11832_15.sciE.fits]: SExtractor found [5310] sources!\n",
      "MeLOn CheckPoint [Roman_WAS_simple_model_H158_11832_15.sciE.fits]: PYSEx output catalog contains [5310] sources!\n"
     ]
    }
   ],
   "source": [
    "# Note: please unpack .fz files manually\n",
    "# * extract the science extension\n",
    "FITS_REF0 = MAINDIR + '/preproc/input/%s.fits' %refname\n",
    "FITS_SCI0 = MAINDIR + '/preproc/input/%s.fits' %sciname\n",
    "\n",
    "for FITS_obj in [FITS_REF0, FITS_SCI0]:\n",
    "    FITS_out = MAINDIR + '/preproc/output/%s.sciE.fits' %(pa.basename(FITS_obj)[:-5])\n",
    "    with fits.open(FITS_obj) as hdl:\n",
    "        hdr1 = hdl[1].header\n",
    "        hdr1['GAIN'] = 1.0\n",
    "        hdr1['SATURATE'] = 120000.  # trivial placeholder\n",
    "        fits.HDUList([fits.PrimaryHDU(data=hdl[1].data, header=hdr1)])\\\n",
    "            .writeto(FITS_out, overwrite=True)\n",
    "\n",
    "# * sky subtraction\n",
    "FITS_REF1 = MAINDIR + '/preproc/output/%s.sciE.fits' %refname\n",
    "FITS_SCI1 = MAINDIR + '/preproc/output/%s.sciE.fits' %sciname\n",
    "\n",
    "for FITS_obj in [FITS_REF1, FITS_SCI1]:\n",
    "    FITS_skysub = MAINDIR + '/input/%s.skysub.fits' %(pa.basename(FITS_obj)[:-5])\n",
    "    SEx_SkySubtract.SSS(FITS_obj=FITS_obj, FITS_skysub=FITS_skysub, FITS_sky=None, FITS_skyrms=None, \\\n",
    "        SATUR_KEY='SATURATE', ESATUR_KEY='ESATUR', BACK_SIZE=64, BACK_FILTERSIZE=3, DETECT_THRESH=1.5, \\\n",
    "        DETECT_MINAREA=5, DETECT_MAXAREA=0, VERBOSE_LEVEL=2)\n"
   ]
  },
  {
   "cell_type": "code",
   "execution_count": 9,
   "metadata": {},
   "outputs": [
    {
     "name": "stdout",
     "output_type": "stream",
     "text": [
      "\n",
      "MeLOn CheckPoint [Roman_WAS_simple_model_H158_9758_15.sciE.skysub.fits]: Run Python Wrapper of SExtractor!\n",
      "MeLOn CheckPoint [Roman_WAS_simple_model_H158_9758_15.sciE.skysub.fits]: SExtractor uses GAIN = [1.0] from keyword [GAIN]!\n",
      "MeLOn CheckPoint [Roman_WAS_simple_model_H158_9758_15.sciE.skysub.fits]: SExtractor uses SATURATION = [120000.0] from keyword [SATURATE]!\n",
      "MeLOn CheckPoint [Roman_WAS_simple_model_H158_9758_15.sciE.skysub.fits]: SExtractor found [5863] sources!\n",
      "MeLOn CheckPoint [Roman_WAS_simple_model_H158_9758_15.sciE.skysub.fits]: PYSEx output catalog contains [5863] sources!\n",
      "\n",
      "MeLOn CheckPoint [Roman_WAS_simple_model_H158_11832_15.sciE.skysub.fits]: Run Python Wrapper of SExtractor!\n",
      "MeLOn CheckPoint [Roman_WAS_simple_model_H158_11832_15.sciE.skysub.fits]: SExtractor uses GAIN = [1.0] from keyword [GAIN]!\n",
      "MeLOn CheckPoint [Roman_WAS_simple_model_H158_11832_15.sciE.skysub.fits]: SExtractor uses SATURATION = [120000.0] from keyword [SATURATE]!\n",
      "MeLOn CheckPoint [Roman_WAS_simple_model_H158_11832_15.sciE.skysub.fits]: SExtractor found [5518] sources!\n",
      "MeLOn CheckPoint [Roman_WAS_simple_model_H158_11832_15.sciE.skysub.fits]: PYSEx output catalog contains [5518] sources!\n"
     ]
    }
   ],
   "source": [
    "# * create detection masks \n",
    "FITS_REF2 = MAINDIR + '/input/%s.sciE.skysub.fits' %refname\n",
    "FITS_SCI2 = MAINDIR + '/input/%s.sciE.skysub.fits' %sciname\n",
    "\n",
    "SExParam = ['X_IMAGE', 'Y_IMAGE', 'FLUX_AUTO', 'FLUXERR_AUTO', 'MAG_AUTO', 'MAGERR_AUTO', 'FLAGS', \\\n",
    "    'FLUX_RADIUS', 'FWHM_IMAGE', 'A_IMAGE', 'B_IMAGE', 'KRON_RADIUS', 'THETA_IMAGE', 'SNR_WIN']\n",
    "\n",
    "PixA_SEG_REF = PY_SEx.PS(FITS_obj=FITS_REF2, SExParam=SExParam, GAIN_KEY='GAIN', SATUR_KEY='SATURATE', \\\n",
    "    BACK_TYPE='MANUAL', BACK_VALUE=0.0, BACK_SIZE=64, BACK_FILTERSIZE=3, DETECT_THRESH=1.5, \\\n",
    "    DETECT_MINAREA=5, DETECT_MAXAREA=0, DEBLEND_MINCONT=0.001, BACKPHOTO_TYPE='LOCAL', \\\n",
    "    CHECKIMAGE_TYPE='SEGMENTATION', AddRD=True, ONLY_FLAGS=None, XBoundary=0.0, YBoundary=0.0, \\\n",
    "    MDIR=None, VERBOSE_LEVEL=1)[1][0]\n",
    "\n",
    "PixA_DETMASK_REF = PixA_SEG_REF > 0\n",
    "with fits.open(FITS_REF2) as hdl:\n",
    "    hdl[0].data[:, :] = PixA_DETMASK_REF.astype(float).T\n",
    "    hdl.writeto(MAINDIR + '/input/%s.sciE.skysub.detmask.fits' %refname, overwrite=True)\n",
    "\n",
    "PixA_SEG_SCI = PY_SEx.PS(FITS_obj=FITS_SCI2, SExParam=SExParam, GAIN_KEY='GAIN', SATUR_KEY='SATURATE', \\\n",
    "    BACK_TYPE='MANUAL', BACK_VALUE=0.0, BACK_SIZE=64, BACK_FILTERSIZE=3, DETECT_THRESH=1.5, \\\n",
    "    DETECT_MINAREA=5, DETECT_MAXAREA=0, DEBLEND_MINCONT=0.001, BACKPHOTO_TYPE='LOCAL', \\\n",
    "    CHECKIMAGE_TYPE='SEGMENTATION', AddRD=True, ONLY_FLAGS=None, XBoundary=0.0, YBoundary=0.0, \\\n",
    "    MDIR=None, VERBOSE_LEVEL=1)[1][0]\n",
    "\n",
    "PixA_DETMASK_SCI = PixA_SEG_SCI > 0\n",
    "with fits.open(FITS_SCI2) as hdl:\n",
    "    hdl[0].data[:, :] = PixA_DETMASK_SCI.astype(float).T\n",
    "    hdl.writeto(MAINDIR + '/input/%s.sciE.skysub.detmask.fits' %sciname, overwrite=True)\n",
    "    "
   ]
  },
  {
   "cell_type": "code",
   "execution_count": null,
   "metadata": {},
   "outputs": [],
   "source": [
    "\n",
    "\n",
    "\n"
   ]
  }
 ],
 "metadata": {
  "kernelspec": {
   "display_name": "PythonEnvR",
   "language": "python",
   "name": "envr"
  },
  "language_info": {
   "codemirror_mode": {
    "name": "ipython",
    "version": 3
   },
   "file_extension": ".py",
   "mimetype": "text/x-python",
   "name": "python",
   "nbconvert_exporter": "python",
   "pygments_lexer": "ipython3",
   "version": "3.10.13"
  }
 },
 "nbformat": 4,
 "nbformat_minor": 2
}
